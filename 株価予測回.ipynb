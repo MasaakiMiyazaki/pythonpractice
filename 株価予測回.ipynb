{
  "nbformat": 4,
  "nbformat_minor": 0,
  "metadata": {
    "kernelspec": {
      "display_name": "Python 3",
      "language": "python",
      "name": "python3"
    },
    "language_info": {
      "codemirror_mode": {
        "name": "ipython",
        "version": 3
      },
      "file_extension": ".py",
      "mimetype": "text/x-python",
      "name": "python",
      "nbconvert_exporter": "python",
      "pygments_lexer": "ipython3",
      "version": "3.6.8"
    },
    "colab": {
      "name": "株価予測回.ipynb",
      "provenance": [],
      "include_colab_link": true
    }
  },
  "cells": [
    {
      "cell_type": "markdown",
      "metadata": {
        "id": "view-in-github",
        "colab_type": "text"
      },
      "source": [
        "<a href=\"https://colab.research.google.com/github/MasaakiMiyazaki/pythonpractice/blob/master/%E6%A0%AA%E4%BE%A1%E4%BA%88%E6%B8%AC%E5%9B%9E.ipynb\" target=\"_parent\"><img src=\"https://colab.research.google.com/assets/colab-badge.svg\" alt=\"Open In Colab\"/></a>"
      ]
    },
    {
      "cell_type": "code",
      "metadata": {
        "id": "R3W3__s_AA_D",
        "colab_type": "code",
        "colab": {}
      },
      "source": [
        "import pandas as pd\n",
        "df = pd.read_csv('https://raw.githubusercontent.com/we-b/datasets_for_ai/master/stock1.csv', encoding=\"shift-jis\", dtype = None, delimiter = \",\", parse_dates=['日付'])#, index_col='日付')#,data_parser=dateparse)"
      ],
      "execution_count": 0,
      "outputs": []
    },
    {
      "cell_type": "code",
      "metadata": {
        "id": "8NM2ABflAA_J",
        "colab_type": "code",
        "outputId": "b9875330-90bb-4486-8c0b-0c9746f4915a",
        "colab": {}
      },
      "source": [
        "df"
      ],
      "execution_count": 0,
      "outputs": [
        {
          "output_type": "execute_result",
          "data": {
            "text/html": [
              "<div>\n",
              "<style scoped>\n",
              "    .dataframe tbody tr th:only-of-type {\n",
              "        vertical-align: middle;\n",
              "    }\n",
              "\n",
              "    .dataframe tbody tr th {\n",
              "        vertical-align: top;\n",
              "    }\n",
              "\n",
              "    .dataframe thead th {\n",
              "        text-align: right;\n",
              "    }\n",
              "</style>\n",
              "<table border=\"1\" class=\"dataframe\">\n",
              "  <thead>\n",
              "    <tr style=\"text-align: right;\">\n",
              "      <th></th>\n",
              "      <th>日付</th>\n",
              "      <th>始値</th>\n",
              "      <th>高値</th>\n",
              "      <th>安値</th>\n",
              "      <th>終値</th>\n",
              "      <th>出来高</th>\n",
              "      <th>終値調整値</th>\n",
              "      <th>インデックス</th>\n",
              "    </tr>\n",
              "  </thead>\n",
              "  <tbody>\n",
              "    <tr>\n",
              "      <th>0</th>\n",
              "      <td>2017-01-04</td>\n",
              "      <td>2734</td>\n",
              "      <td>2755</td>\n",
              "      <td>2730</td>\n",
              "      <td>2742</td>\n",
              "      <td>31400</td>\n",
              "      <td>2742</td>\n",
              "      <td>0</td>\n",
              "    </tr>\n",
              "    <tr>\n",
              "      <th>1</th>\n",
              "      <td>2017-01-05</td>\n",
              "      <td>2743</td>\n",
              "      <td>2747</td>\n",
              "      <td>2735</td>\n",
              "      <td>2738</td>\n",
              "      <td>17900</td>\n",
              "      <td>2738</td>\n",
              "      <td>1</td>\n",
              "    </tr>\n",
              "    <tr>\n",
              "      <th>2</th>\n",
              "      <td>2017-01-06</td>\n",
              "      <td>2734</td>\n",
              "      <td>2744</td>\n",
              "      <td>2720</td>\n",
              "      <td>2740</td>\n",
              "      <td>19900</td>\n",
              "      <td>2740</td>\n",
              "      <td>2</td>\n",
              "    </tr>\n",
              "    <tr>\n",
              "      <th>3</th>\n",
              "      <td>2017-01-10</td>\n",
              "      <td>2745</td>\n",
              "      <td>2754</td>\n",
              "      <td>2735</td>\n",
              "      <td>2748</td>\n",
              "      <td>24200</td>\n",
              "      <td>2748</td>\n",
              "      <td>3</td>\n",
              "    </tr>\n",
              "    <tr>\n",
              "      <th>4</th>\n",
              "      <td>2017-01-11</td>\n",
              "      <td>2748</td>\n",
              "      <td>2752</td>\n",
              "      <td>2737</td>\n",
              "      <td>2745</td>\n",
              "      <td>9300</td>\n",
              "      <td>2745</td>\n",
              "      <td>4</td>\n",
              "    </tr>\n",
              "    <tr>\n",
              "      <th>...</th>\n",
              "      <td>...</td>\n",
              "      <td>...</td>\n",
              "      <td>...</td>\n",
              "      <td>...</td>\n",
              "      <td>...</td>\n",
              "      <td>...</td>\n",
              "      <td>...</td>\n",
              "      <td>...</td>\n",
              "    </tr>\n",
              "    <tr>\n",
              "      <th>241</th>\n",
              "      <td>2017-12-25</td>\n",
              "      <td>4220</td>\n",
              "      <td>4295</td>\n",
              "      <td>4215</td>\n",
              "      <td>4275</td>\n",
              "      <td>53400</td>\n",
              "      <td>4275</td>\n",
              "      <td>241</td>\n",
              "    </tr>\n",
              "    <tr>\n",
              "      <th>242</th>\n",
              "      <td>2017-12-26</td>\n",
              "      <td>4300</td>\n",
              "      <td>4415</td>\n",
              "      <td>4300</td>\n",
              "      <td>4345</td>\n",
              "      <td>75200</td>\n",
              "      <td>4345</td>\n",
              "      <td>242</td>\n",
              "    </tr>\n",
              "    <tr>\n",
              "      <th>243</th>\n",
              "      <td>2017-12-27</td>\n",
              "      <td>4385</td>\n",
              "      <td>4400</td>\n",
              "      <td>4250</td>\n",
              "      <td>4270</td>\n",
              "      <td>58200</td>\n",
              "      <td>4270</td>\n",
              "      <td>243</td>\n",
              "    </tr>\n",
              "    <tr>\n",
              "      <th>244</th>\n",
              "      <td>2017-12-28</td>\n",
              "      <td>4270</td>\n",
              "      <td>4325</td>\n",
              "      <td>4230</td>\n",
              "      <td>4310</td>\n",
              "      <td>58100</td>\n",
              "      <td>4310</td>\n",
              "      <td>244</td>\n",
              "    </tr>\n",
              "    <tr>\n",
              "      <th>245</th>\n",
              "      <td>2017-12-29</td>\n",
              "      <td>4310</td>\n",
              "      <td>4315</td>\n",
              "      <td>4280</td>\n",
              "      <td>4295</td>\n",
              "      <td>16400</td>\n",
              "      <td>4295</td>\n",
              "      <td>245</td>\n",
              "    </tr>\n",
              "  </tbody>\n",
              "</table>\n",
              "<p>246 rows × 8 columns</p>\n",
              "</div>"
            ],
            "text/plain": [
              "            日付    始値    高値    安値    終値    出来高  終値調整値  インデックス\n",
              "0   2017-01-04  2734  2755  2730  2742  31400   2742       0\n",
              "1   2017-01-05  2743  2747  2735  2738  17900   2738       1\n",
              "2   2017-01-06  2734  2744  2720  2740  19900   2740       2\n",
              "3   2017-01-10  2745  2754  2735  2748  24200   2748       3\n",
              "4   2017-01-11  2748  2752  2737  2745   9300   2745       4\n",
              "..         ...   ...   ...   ...   ...    ...    ...     ...\n",
              "241 2017-12-25  4220  4295  4215  4275  53400   4275     241\n",
              "242 2017-12-26  4300  4415  4300  4345  75200   4345     242\n",
              "243 2017-12-27  4385  4400  4250  4270  58200   4270     243\n",
              "244 2017-12-28  4270  4325  4230  4310  58100   4310     244\n",
              "245 2017-12-29  4310  4315  4280  4295  16400   4295     245\n",
              "\n",
              "[246 rows x 8 columns]"
            ]
          },
          "metadata": {
            "tags": []
          },
          "execution_count": 2
        }
      ]
    },
    {
      "cell_type": "code",
      "metadata": {
        "id": "yipAt8V_AA_O",
        "colab_type": "code",
        "colab": {}
      },
      "source": [
        "x=df['インデックス']\n",
        "y=df['終値']"
      ],
      "execution_count": 0,
      "outputs": []
    },
    {
      "cell_type": "code",
      "metadata": {
        "id": "_giYb4YNAA_R",
        "colab_type": "code",
        "outputId": "65bc8d6a-9470-42f6-f286-1775d6a43bf2",
        "colab": {}
      },
      "source": [
        "print(x.shape)\n",
        "print(y.shape)"
      ],
      "execution_count": 0,
      "outputs": [
        {
          "output_type": "stream",
          "text": [
            "(246,)\n",
            "(246,)\n"
          ],
          "name": "stdout"
        }
      ]
    },
    {
      "cell_type": "code",
      "metadata": {
        "id": "DF00zOYtAA_V",
        "colab_type": "code",
        "colab": {}
      },
      "source": [
        "import matplotlib.pyplot as plt\n",
        "%matplotlib inline"
      ],
      "execution_count": 0,
      "outputs": []
    },
    {
      "cell_type": "code",
      "metadata": {
        "id": "ruNUVKH7AA_Y",
        "colab_type": "code",
        "outputId": "993966d8-7294-42c8-a89d-caaf2ddcb64a",
        "colab": {}
      },
      "source": [
        "plt.plot (x,y)"
      ],
      "execution_count": 0,
      "outputs": [
        {
          "output_type": "execute_result",
          "data": {
            "text/plain": [
              "[<matplotlib.lines.Line2D at 0x7f9b364a0128>]"
            ]
          },
          "metadata": {
            "tags": []
          },
          "execution_count": 9
        },
        {
          "output_type": "display_data",
          "data": {
            "image/png": "[encoded data removed]",
            "text/plain": [
              "<Figure size 432x288 with 1 Axes>"
            ]
          },
          "metadata": {
            "tags": [],
            "needs_background": "light"
          }
        }
      ]
    },
    {
      "cell_type": "code",
      "metadata": {
        "id": "-ppTGdp3AA_b",
        "colab_type": "code",
        "colab": {}
      },
      "source": [
        "from sklearn.linear_model import LinearRegression\n",
        "from sklearn.preprocessing import PolynomialFeatures"
      ],
      "execution_count": 0,
      "outputs": []
    },
    {
      "cell_type": "code",
      "metadata": {
        "id": "6NBwktilAA_f",
        "colab_type": "code",
        "outputId": "b8e80d67-52ad-40be-c040-8e28f8666fed",
        "colab": {}
      },
      "source": [
        "x.head()"
      ],
      "execution_count": 0,
      "outputs": [
        {
          "output_type": "execute_result",
          "data": {
            "text/plain": [
              "0    0\n",
              "1    1\n",
              "2    2\n",
              "3    3\n",
              "4    4\n",
              "Name: インデックス, dtype: int64"
            ]
          },
          "metadata": {
            "tags": []
          },
          "execution_count": 13
        }
      ]
    },
    {
      "cell_type": "code",
      "metadata": {
        "id": "ExexXe0qAA_i",
        "colab_type": "code",
        "outputId": "8a7bb88e-753d-4221-80f6-34da4d58bd12",
        "colab": {}
      },
      "source": [
        "y.head()"
      ],
      "execution_count": 0,
      "outputs": [
        {
          "output_type": "execute_result",
          "data": {
            "text/plain": [
              "0    2742\n",
              "1    2738\n",
              "2    2740\n",
              "3    2748\n",
              "4    2745\n",
              "Name: 終値, dtype: int64"
            ]
          },
          "metadata": {
            "tags": []
          },
          "execution_count": 14
        }
      ]
    },
    {
      "cell_type": "code",
      "metadata": {
        "id": "gCegQuo6AA_l",
        "colab_type": "code",
        "colab": {}
      },
      "source": [
        ""
      ],
      "execution_count": 0,
      "outputs": []
    },
    {
      "cell_type": "code",
      "metadata": {
        "id": "rhhpyaOvAA_o",
        "colab_type": "code",
        "colab": {}
      },
      "source": [
        ""
      ],
      "execution_count": 0,
      "outputs": []
    },
    {
      "cell_type": "code",
      "metadata": {
        "id": "7lPtv4Z8AA_s",
        "colab_type": "code",
        "colab": {}
      },
      "source": [
        "X=df[['インデックス']].values\n",
        "y=df['終値'].values"
      ],
      "execution_count": 0,
      "outputs": []
    },
    {
      "cell_type": "code",
      "metadata": {
        "id": "rYFxqy5YAA_u",
        "colab_type": "code",
        "colab": {}
      },
      "source": [
        ""
      ],
      "execution_count": 0,
      "outputs": []
    },
    {
      "cell_type": "code",
      "metadata": {
        "id": "iGCV70DaAA_x",
        "colab_type": "code",
        "colab": {}
      },
      "source": [
        ""
      ],
      "execution_count": 0,
      "outputs": []
    },
    {
      "cell_type": "code",
      "metadata": {
        "id": "jdmNcJidAA_0",
        "colab_type": "code",
        "colab": {}
      },
      "source": [
        ""
      ],
      "execution_count": 0,
      "outputs": []
    },
    {
      "cell_type": "code",
      "metadata": {
        "id": "XeZBUbPGAA_3",
        "colab_type": "code",
        "colab": {}
      },
      "source": [
        "double=PolynomialFeatures(degree=2)\n",
        "triple=PolynomialFeatures(degree=3)"
      ],
      "execution_count": 0,
      "outputs": []
    },
    {
      "cell_type": "code",
      "metadata": {
        "id": "QyW9fUXBAA_5",
        "colab_type": "code",
        "colab": {}
      },
      "source": [
        ""
      ],
      "execution_count": 0,
      "outputs": []
    },
    {
      "cell_type": "code",
      "metadata": {
        "id": "GxyTqz7HAA_8",
        "colab_type": "code",
        "colab": {}
      },
      "source": [
        "X2=double.fit_transform(X)\n",
        "X3=triple.fit_transform(X)"
      ],
      "execution_count": 0,
      "outputs": []
    },
    {
      "cell_type": "code",
      "metadata": {
        "id": "vlWnu68MAA_-",
        "colab_type": "code",
        "colab": {}
      },
      "source": [
        "from sklearn.metrics import r2_score"
      ],
      "execution_count": 0,
      "outputs": []
    },
    {
      "cell_type": "code",
      "metadata": {
        "id": "jUaPxWijABAB",
        "colab_type": "code",
        "colab": {}
      },
      "source": [
        ""
      ],
      "execution_count": 0,
      "outputs": []
    },
    {
      "cell_type": "code",
      "metadata": {
        "id": "Nu0O_sFkABAD",
        "colab_type": "code",
        "colab": {}
      },
      "source": [
        "lr=LinearRegression()"
      ],
      "execution_count": 0,
      "outputs": []
    },
    {
      "cell_type": "code",
      "metadata": {
        "id": "XPZyjDCuABAG",
        "colab_type": "code",
        "colab": {}
      },
      "source": [
        "lr.fit(X2,y)\n",
        "y_double_fit=lr.predict(double.fit_transform(X))\n",
        "double_r2=r2_score(y,y_double_fit)"
      ],
      "execution_count": 0,
      "outputs": []
    },
    {
      "cell_type": "code",
      "metadata": {
        "id": "2dqS55kdABAJ",
        "colab_type": "code",
        "outputId": "b011c43a-8e79-414d-e417-b059c6206d37",
        "colab": {}
      },
      "source": [
        "print(double_r2)"
      ],
      "execution_count": 0,
      "outputs": [
        {
          "output_type": "stream",
          "text": [
            "0.8984690413652471\n"
          ],
          "name": "stdout"
        }
      ]
    },
    {
      "cell_type": "code",
      "metadata": {
        "id": "QMkzJOiSABAM",
        "colab_type": "code",
        "colab": {}
      },
      "source": [
        "lr.fit(X3,y)\n",
        "y_triple_fit=lr.predict(triple.fit_transform(X))\n",
        "triple_r2=r2_score(y,y_triple_fit)"
      ],
      "execution_count": 0,
      "outputs": []
    },
    {
      "cell_type": "code",
      "metadata": {
        "id": "dIDcrXxSABAO",
        "colab_type": "code",
        "outputId": "13669d2d-cc7a-4d09-8128-b3ef233d6c40",
        "colab": {}
      },
      "source": [
        "print(triple_r2)"
      ],
      "execution_count": 0,
      "outputs": [
        {
          "output_type": "stream",
          "text": [
            "0.9425758518898091\n"
          ],
          "name": "stdout"
        }
      ]
    },
    {
      "cell_type": "code",
      "metadata": {
        "id": "-D6pUj6WABAQ",
        "colab_type": "code",
        "colab": {}
      },
      "source": [
        "#三次元の方が精度高いけど二次関数の時点で高すぎ。"
      ],
      "execution_count": 0,
      "outputs": []
    },
    {
      "cell_type": "code",
      "metadata": {
        "id": "_Gu0SUX_ABAT",
        "colab_type": "code",
        "colab": {}
      },
      "source": [
        ""
      ],
      "execution_count": 0,
      "outputs": []
    },
    {
      "cell_type": "code",
      "metadata": {
        "id": "ObiW_o-GABAW",
        "colab_type": "code",
        "colab": {}
      },
      "source": [
        ""
      ],
      "execution_count": 0,
      "outputs": []
    },
    {
      "cell_type": "code",
      "metadata": {
        "id": "mfvc2M2wABAY",
        "colab_type": "code",
        "colab": {}
      },
      "source": [
        ""
      ],
      "execution_count": 0,
      "outputs": []
    },
    {
      "cell_type": "code",
      "metadata": {
        "id": "wdM-TCc2ABAa",
        "colab_type": "code",
        "outputId": "8d1bccc0-8a7a-4004-a3f5-e102dab0e888",
        "colab": {}
      },
      "source": [
        "# 元のグラフをプロットする\n",
        "plt.scatter(X, y, label='training points', color='lightgray')\n",
        "\n",
        "\n",
        "plt.plot(X, y_double_fit, \n",
        "         label='double (d=2), $R^2=%.2f$' % double_r2,# 二次多項式回帰の場合の決定係数\n",
        "         color='red', \n",
        "         lw=2,\n",
        "         linestyle='-')\n",
        "\n",
        "plt.plot(X, y_triple_fit, \n",
        "         label='triple (d=3), $R^2=%.2f$' % triple_r2,#三次多項式回帰の場合の決定係数\n",
        "         color='green', \n",
        "         lw=2, \n",
        "         linestyle='--')\n",
        "\n",
        "plt.xlabel('% time index ')\n",
        "plt.ylabel('final')\n",
        "plt.legend(loc='upper right')\n",
        "plt.show()"
      ],
      "execution_count": 0,
      "outputs": [
        {
          "output_type": "display_data",
          "data": {
            "image/png": "[encoded data removed]",
            "text/plain": [
              "<Figure size 432x288 with 1 Axes>"
            ]
          },
          "metadata": {
            "tags": [],
            "needs_background": "light"
          }
        }
      ]
    },
    {
      "cell_type": "code",
      "metadata": {
        "id": "amQRjx7jABAe",
        "colab_type": "code",
        "colab": {}
      },
      "source": [
        ""
      ],
      "execution_count": 0,
      "outputs": []
    },
    {
      "cell_type": "code",
      "metadata": {
        "id": "xWo5XNCnABAi",
        "colab_type": "code",
        "colab": {}
      },
      "source": [
        ""
      ],
      "execution_count": 0,
      "outputs": []
    },
    {
      "cell_type": "code",
      "metadata": {
        "id": "-RHnFe69ABAk",
        "colab_type": "code",
        "colab": {}
      },
      "source": [
        ""
      ],
      "execution_count": 0,
      "outputs": []
    },
    {
      "cell_type": "code",
      "metadata": {
        "id": "qTrH--OZABAn",
        "colab_type": "code",
        "colab": {}
      },
      "source": [
        ""
      ],
      "execution_count": 0,
      "outputs": []
    },
    {
      "cell_type": "code",
      "metadata": {
        "id": "n4pJIQtjABAp",
        "colab_type": "code",
        "colab": {}
      },
      "source": [
        ""
      ],
      "execution_count": 0,
      "outputs": []
    },
    {
      "cell_type": "code",
      "metadata": {
        "id": "wPHfFPPqABAs",
        "colab_type": "code",
        "colab": {}
      },
      "source": [
        ""
      ],
      "execution_count": 0,
      "outputs": []
    },
    {
      "cell_type": "code",
      "metadata": {
        "id": "KiGRuTKvABAu",
        "colab_type": "code",
        "colab": {}
      },
      "source": [
        ""
      ],
      "execution_count": 0,
      "outputs": []
    },
    {
      "cell_type": "code",
      "metadata": {
        "id": "9_Ub7MDLABAy",
        "colab_type": "code",
        "colab": {}
      },
      "source": [
        ""
      ],
      "execution_count": 0,
      "outputs": []
    },
    {
      "cell_type": "code",
      "metadata": {
        "id": "4tAg3543ABA0",
        "colab_type": "code",
        "colab": {}
      },
      "source": [
        ""
      ],
      "execution_count": 0,
      "outputs": []
    },
    {
      "cell_type": "code",
      "metadata": {
        "id": "6TEt8cvuABA_",
        "colab_type": "code",
        "colab": {}
      },
      "source": [
        ""
      ],
      "execution_count": 0,
      "outputs": []
    },
    {
      "cell_type": "code",
      "metadata": {
        "id": "076zFcLhABBC",
        "colab_type": "code",
        "colab": {}
      },
      "source": [
        ""
      ],
      "execution_count": 0,
      "outputs": []
    },
    {
      "cell_type": "code",
      "metadata": {
        "id": "hPCm-XvXABBF",
        "colab_type": "code",
        "colab": {}
      },
      "source": [
        ""
      ],
      "execution_count": 0,
      "outputs": []
    },
    {
      "cell_type": "code",
      "metadata": {
        "id": "MVgZjouqABBJ",
        "colab_type": "code",
        "colab": {}
      },
      "source": [
        ""
      ],
      "execution_count": 0,
      "outputs": []
    },
    {
      "cell_type": "code",
      "metadata": {
        "id": "ZkwnP_q4ABBL",
        "colab_type": "code",
        "colab": {}
      },
      "source": [
        ""
      ],
      "execution_count": 0,
      "outputs": []
    },
    {
      "cell_type": "code",
      "metadata": {
        "id": "F6rNh7R2ABBO",
        "colab_type": "code",
        "colab": {}
      },
      "source": [
        ""
      ],
      "execution_count": 0,
      "outputs": []
    },
    {
      "cell_type": "code",
      "metadata": {
        "id": "Ep5irAWsABBT",
        "colab_type": "code",
        "colab": {}
      },
      "source": [
        ""
      ],
      "execution_count": 0,
      "outputs": []
    },
    {
      "cell_type": "code",
      "metadata": {
        "id": "oXZdrSTeABBV",
        "colab_type": "code",
        "colab": {}
      },
      "source": [
        ""
      ],
      "execution_count": 0,
      "outputs": []
    },
    {
      "cell_type": "code",
      "metadata": {
        "id": "I5RuaacMABBY",
        "colab_type": "code",
        "colab": {}
      },
      "source": [
        ""
      ],
      "execution_count": 0,
      "outputs": []
    },
    {
      "cell_type": "code",
      "metadata": {
        "id": "zUDHuBArABBb",
        "colab_type": "code",
        "colab": {}
      },
      "source": [
        ""
      ],
      "execution_count": 0,
      "outputs": []
    },
    {
      "cell_type": "code",
      "metadata": {
        "id": "RkJSvp5fABBc",
        "colab_type": "code",
        "colab": {}
      },
      "source": [
        ""
      ],
      "execution_count": 0,
      "outputs": []
    },
    {
      "cell_type": "code",
      "metadata": {
        "id": "PfeMmDRgABBg",
        "colab_type": "code",
        "colab": {}
      },
      "source": [
        ""
      ],
      "execution_count": 0,
      "outputs": []
    }
  ]
}