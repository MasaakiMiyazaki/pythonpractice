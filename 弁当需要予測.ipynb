{
  "nbformat": 4,
  "nbformat_minor": 0,
  "metadata": {
    "kernelspec": {
      "display_name": "Python 3",
      "language": "python",
      "name": "python3"
    },
    "language_info": {
      "codemirror_mode": {
        "name": "ipython",
        "version": 3
      },
      "file_extension": ".py",
      "mimetype": "text/x-python",
      "name": "python",
      "nbconvert_exporter": "python",
      "pygments_lexer": "ipython3",
      "version": "3.6.8"
    },
    "colab": {
      "name": "弁当需要予測.ipynb",
      "provenance": [],
      "include_colab_link": true
    }
  },
  "cells": [
    {
      "cell_type": "markdown",
      "metadata": {
        "id": "view-in-github",
        "colab_type": "text"
      },
      "source": [
        "<a href=\"https://colab.research.google.com/github/MasaakiMiyazaki/pythonpractice/blob/master/%E5%BC%81%E5%BD%93%E9%9C%80%E8%A6%81%E4%BA%88%E6%B8%AC.ipynb\" target=\"_parent\"><img src=\"https://colab.research.google.com/assets/colab-badge.svg\" alt=\"Open In Colab\"/></a>"
      ]
    },
    {
      "cell_type": "code",
      "metadata": {
        "id": "vYIWtxv-ZVWp",
        "colab_type": "code",
        "colab": {}
      },
      "source": [
        "import pandas as pd\n",
        "df1 = pd.read_csv('https://raw.githubusercontent.com/we-b/datasets_for_ai/master/train_foods.csv')\n",
        "df2 = pd.read_csv('https://raw.githubusercontent.com/we-b/datasets_for_ai/master/test_food.csv')"
      ],
      "execution_count": 0,
      "outputs": []
    },
    {
      "cell_type": "code",
      "metadata": {
        "id": "2wpNVTWYZVXF",
        "colab_type": "code",
        "colab": {}
      },
      "source": [
        ""
      ],
      "execution_count": 0,
      "outputs": []
    },
    {
      "cell_type": "code",
      "metadata": {
        "id": "YaceX7gcZVXV",
        "colab_type": "code",
        "colab": {},
        "outputId": "a265355b-eb48-413f-ae97-951e114d7eca"
      },
      "source": [
        "df1['weather']"
      ],
      "execution_count": 0,
      "outputs": [
        {
          "output_type": "execute_result",
          "data": {
            "text/plain": [
              "0      快晴\n",
              "1      快晴\n",
              "2      快晴\n",
              "3      快晴\n",
              "4      快晴\n",
              "       ..\n",
              "202     曇\n",
              "203     曇\n",
              "204    晴れ\n",
              "205    快晴\n",
              "206    快晴\n",
              "Name: weather, Length: 207, dtype: object"
            ]
          },
          "metadata": {
            "tags": []
          },
          "execution_count": 3
        }
      ]
    },
    {
      "cell_type": "code",
      "metadata": {
        "id": "z0QBCgHXZVX2",
        "colab_type": "code",
        "colab": {}
      },
      "source": [
        ""
      ],
      "execution_count": 0,
      "outputs": []
    },
    {
      "cell_type": "code",
      "metadata": {
        "id": "eetxZVDcZVX5",
        "colab_type": "code",
        "colab": {},
        "outputId": "6df3a709-dd71-47bd-a32a-3cbc12b151d4"
      },
      "source": [
        "df1.head()"
      ],
      "execution_count": 0,
      "outputs": [
        {
          "output_type": "execute_result",
          "data": {
            "text/html": [
              "<div>\n",
              "<style scoped>\n",
              "    .dataframe tbody tr th:only-of-type {\n",
              "        vertical-align: middle;\n",
              "    }\n",
              "\n",
              "    .dataframe tbody tr th {\n",
              "        vertical-align: top;\n",
              "    }\n",
              "\n",
              "    .dataframe thead th {\n",
              "        text-align: right;\n",
              "    }\n",
              "</style>\n",
              "<table border=\"1\" class=\"dataframe\">\n",
              "  <thead>\n",
              "    <tr style=\"text-align: right;\">\n",
              "      <th></th>\n",
              "      <th>datetime</th>\n",
              "      <th>y</th>\n",
              "      <th>week</th>\n",
              "      <th>soldout</th>\n",
              "      <th>name</th>\n",
              "      <th>kcal</th>\n",
              "      <th>remarks</th>\n",
              "      <th>event</th>\n",
              "      <th>payday</th>\n",
              "      <th>weather</th>\n",
              "      <th>precipitation</th>\n",
              "      <th>temperature</th>\n",
              "    </tr>\n",
              "  </thead>\n",
              "  <tbody>\n",
              "    <tr>\n",
              "      <th>0</th>\n",
              "      <td>2013-11-18</td>\n",
              "      <td>90</td>\n",
              "      <td>月</td>\n",
              "      <td>0</td>\n",
              "      <td>厚切りイカフライ</td>\n",
              "      <td>NaN</td>\n",
              "      <td>NaN</td>\n",
              "      <td>NaN</td>\n",
              "      <td>NaN</td>\n",
              "      <td>快晴</td>\n",
              "      <td>--</td>\n",
              "      <td>19.8</td>\n",
              "    </tr>\n",
              "    <tr>\n",
              "      <th>1</th>\n",
              "      <td>2013-11-19</td>\n",
              "      <td>101</td>\n",
              "      <td>火</td>\n",
              "      <td>1</td>\n",
              "      <td>手作りヒレカツ</td>\n",
              "      <td>NaN</td>\n",
              "      <td>NaN</td>\n",
              "      <td>NaN</td>\n",
              "      <td>NaN</td>\n",
              "      <td>快晴</td>\n",
              "      <td>--</td>\n",
              "      <td>17.0</td>\n",
              "    </tr>\n",
              "    <tr>\n",
              "      <th>2</th>\n",
              "      <td>2013-11-20</td>\n",
              "      <td>118</td>\n",
              "      <td>水</td>\n",
              "      <td>0</td>\n",
              "      <td>白身魚唐揚げ野菜あん</td>\n",
              "      <td>NaN</td>\n",
              "      <td>NaN</td>\n",
              "      <td>NaN</td>\n",
              "      <td>NaN</td>\n",
              "      <td>快晴</td>\n",
              "      <td>--</td>\n",
              "      <td>15.5</td>\n",
              "    </tr>\n",
              "    <tr>\n",
              "      <th>3</th>\n",
              "      <td>2013-11-21</td>\n",
              "      <td>120</td>\n",
              "      <td>木</td>\n",
              "      <td>1</td>\n",
              "      <td>若鶏ピリ辛焼</td>\n",
              "      <td>NaN</td>\n",
              "      <td>NaN</td>\n",
              "      <td>NaN</td>\n",
              "      <td>NaN</td>\n",
              "      <td>快晴</td>\n",
              "      <td>--</td>\n",
              "      <td>15.2</td>\n",
              "    </tr>\n",
              "    <tr>\n",
              "      <th>4</th>\n",
              "      <td>2013-11-22</td>\n",
              "      <td>130</td>\n",
              "      <td>金</td>\n",
              "      <td>1</td>\n",
              "      <td>ビッグメンチカツ</td>\n",
              "      <td>NaN</td>\n",
              "      <td>NaN</td>\n",
              "      <td>NaN</td>\n",
              "      <td>NaN</td>\n",
              "      <td>快晴</td>\n",
              "      <td>--</td>\n",
              "      <td>16.1</td>\n",
              "    </tr>\n",
              "  </tbody>\n",
              "</table>\n",
              "</div>"
            ],
            "text/plain": [
              "     datetime    y week  soldout        name  kcal remarks event  payday  \\\n",
              "0  2013-11-18   90    月        0    厚切りイカフライ   NaN     NaN   NaN     NaN   \n",
              "1  2013-11-19  101    火        1     手作りヒレカツ   NaN     NaN   NaN     NaN   \n",
              "2  2013-11-20  118    水        0  白身魚唐揚げ野菜あん   NaN     NaN   NaN     NaN   \n",
              "3  2013-11-21  120    木        1      若鶏ピリ辛焼   NaN     NaN   NaN     NaN   \n",
              "4  2013-11-22  130    金        1    ビッグメンチカツ   NaN     NaN   NaN     NaN   \n",
              "\n",
              "  weather precipitation  temperature  \n",
              "0      快晴            --         19.8  \n",
              "1      快晴            --         17.0  \n",
              "2      快晴            --         15.5  \n",
              "3      快晴            --         15.2  \n",
              "4      快晴            --         16.1  "
            ]
          },
          "metadata": {
            "tags": []
          },
          "execution_count": 4
        }
      ]
    },
    {
      "cell_type": "code",
      "metadata": {
        "id": "q5jKWg2fZVX9",
        "colab_type": "code",
        "colab": {}
      },
      "source": [
        ""
      ],
      "execution_count": 0,
      "outputs": []
    },
    {
      "cell_type": "code",
      "metadata": {
        "id": "ZuWw8fbXZVYG",
        "colab_type": "code",
        "colab": {}
      },
      "source": [
        ""
      ],
      "execution_count": 0,
      "outputs": []
    },
    {
      "cell_type": "code",
      "metadata": {
        "id": "3yR6Z0gXZVYJ",
        "colab_type": "code",
        "colab": {},
        "outputId": "c724a0b6-75ef-4ea5-c109-c6fe785ae581"
      },
      "source": [
        "df2"
      ],
      "execution_count": 0,
      "outputs": [
        {
          "output_type": "execute_result",
          "data": {
            "text/html": [
              "<div>\n",
              "<style scoped>\n",
              "    .dataframe tbody tr th:only-of-type {\n",
              "        vertical-align: middle;\n",
              "    }\n",
              "\n",
              "    .dataframe tbody tr th {\n",
              "        vertical-align: top;\n",
              "    }\n",
              "\n",
              "    .dataframe thead th {\n",
              "        text-align: right;\n",
              "    }\n",
              "</style>\n",
              "<table border=\"1\" class=\"dataframe\">\n",
              "  <thead>\n",
              "    <tr style=\"text-align: right;\">\n",
              "      <th></th>\n",
              "      <th>datetime</th>\n",
              "      <th>week</th>\n",
              "      <th>soldout</th>\n",
              "      <th>name</th>\n",
              "      <th>kcal</th>\n",
              "      <th>remarks</th>\n",
              "      <th>event</th>\n",
              "      <th>payday</th>\n",
              "      <th>weather</th>\n",
              "      <th>precipitation</th>\n",
              "      <th>temperature</th>\n",
              "    </tr>\n",
              "  </thead>\n",
              "  <tbody>\n",
              "    <tr>\n",
              "      <th>0</th>\n",
              "      <td>2014-10-1</td>\n",
              "      <td>水</td>\n",
              "      <td>1</td>\n",
              "      <td>メンチカツ</td>\n",
              "      <td>420.0</td>\n",
              "      <td>NaN</td>\n",
              "      <td>NaN</td>\n",
              "      <td>NaN</td>\n",
              "      <td>雨</td>\n",
              "      <td>0</td>\n",
              "      <td>20.2</td>\n",
              "    </tr>\n",
              "    <tr>\n",
              "      <th>1</th>\n",
              "      <td>2014-10-2</td>\n",
              "      <td>木</td>\n",
              "      <td>0</td>\n",
              "      <td>バーベキューチキン</td>\n",
              "      <td>415.0</td>\n",
              "      <td>NaN</td>\n",
              "      <td>NaN</td>\n",
              "      <td>NaN</td>\n",
              "      <td>曇</td>\n",
              "      <td>--</td>\n",
              "      <td>23.9</td>\n",
              "    </tr>\n",
              "    <tr>\n",
              "      <th>2</th>\n",
              "      <td>2014-10-3</td>\n",
              "      <td>金</td>\n",
              "      <td>0</td>\n",
              "      <td>豚肉のマスタード焼き</td>\n",
              "      <td>405.0</td>\n",
              "      <td>NaN</td>\n",
              "      <td>NaN</td>\n",
              "      <td>NaN</td>\n",
              "      <td>晴れ</td>\n",
              "      <td>--</td>\n",
              "      <td>28.7</td>\n",
              "    </tr>\n",
              "    <tr>\n",
              "      <th>3</th>\n",
              "      <td>2014-10-6</td>\n",
              "      <td>月</td>\n",
              "      <td>1</td>\n",
              "      <td>麻婆春雨</td>\n",
              "      <td>400.0</td>\n",
              "      <td>NaN</td>\n",
              "      <td>NaN</td>\n",
              "      <td>NaN</td>\n",
              "      <td>雨</td>\n",
              "      <td>0.5</td>\n",
              "      <td>21.5</td>\n",
              "    </tr>\n",
              "    <tr>\n",
              "      <th>4</th>\n",
              "      <td>2014-10-7</td>\n",
              "      <td>火</td>\n",
              "      <td>0</td>\n",
              "      <td>厚揚げ肉みそ炒め</td>\n",
              "      <td>430.0</td>\n",
              "      <td>NaN</td>\n",
              "      <td>NaN</td>\n",
              "      <td>NaN</td>\n",
              "      <td>晴れ</td>\n",
              "      <td>--</td>\n",
              "      <td>22.1</td>\n",
              "    </tr>\n",
              "    <tr>\n",
              "      <th>5</th>\n",
              "      <td>2014-10-8</td>\n",
              "      <td>水</td>\n",
              "      <td>0</td>\n",
              "      <td>完熟トマトのホットカレー</td>\n",
              "      <td>420.0</td>\n",
              "      <td>NaN</td>\n",
              "      <td>NaN</td>\n",
              "      <td>NaN</td>\n",
              "      <td>晴れ</td>\n",
              "      <td>--</td>\n",
              "      <td>23.3</td>\n",
              "    </tr>\n",
              "    <tr>\n",
              "      <th>6</th>\n",
              "      <td>2014-10-9</td>\n",
              "      <td>木</td>\n",
              "      <td>0</td>\n",
              "      <td>豚キムチ炒め</td>\n",
              "      <td>435.0</td>\n",
              "      <td>NaN</td>\n",
              "      <td>キャリアアップ支援セミナー</td>\n",
              "      <td>NaN</td>\n",
              "      <td>曇</td>\n",
              "      <td>--</td>\n",
              "      <td>22.5</td>\n",
              "    </tr>\n",
              "    <tr>\n",
              "      <th>7</th>\n",
              "      <td>2014-10-10</td>\n",
              "      <td>金</td>\n",
              "      <td>0</td>\n",
              "      <td>ポークカレー</td>\n",
              "      <td>NaN</td>\n",
              "      <td>お楽しみメニュー</td>\n",
              "      <td>NaN</td>\n",
              "      <td>1.0</td>\n",
              "      <td>薄曇</td>\n",
              "      <td>--</td>\n",
              "      <td>26.1</td>\n",
              "    </tr>\n",
              "    <tr>\n",
              "      <th>8</th>\n",
              "      <td>2014-10-14</td>\n",
              "      <td>火</td>\n",
              "      <td>0</td>\n",
              "      <td>若鶏梅肉包揚げ</td>\n",
              "      <td>408.0</td>\n",
              "      <td>NaN</td>\n",
              "      <td>NaN</td>\n",
              "      <td>NaN</td>\n",
              "      <td>快晴</td>\n",
              "      <td>--</td>\n",
              "      <td>26.8</td>\n",
              "    </tr>\n",
              "    <tr>\n",
              "      <th>9</th>\n",
              "      <td>2014-10-15</td>\n",
              "      <td>水</td>\n",
              "      <td>1</td>\n",
              "      <td>ミックスグリル</td>\n",
              "      <td>450.0</td>\n",
              "      <td>料理長のこだわりメニュー</td>\n",
              "      <td>NaN</td>\n",
              "      <td>NaN</td>\n",
              "      <td>雨</td>\n",
              "      <td>1.5</td>\n",
              "      <td>15.6</td>\n",
              "    </tr>\n",
              "    <tr>\n",
              "      <th>10</th>\n",
              "      <td>2014-10-16</td>\n",
              "      <td>木</td>\n",
              "      <td>0</td>\n",
              "      <td>豚肉と白菜の中華炒め</td>\n",
              "      <td>400.0</td>\n",
              "      <td>NaN</td>\n",
              "      <td>NaN</td>\n",
              "      <td>NaN</td>\n",
              "      <td>晴れ</td>\n",
              "      <td>--</td>\n",
              "      <td>18.6</td>\n",
              "    </tr>\n",
              "    <tr>\n",
              "      <th>11</th>\n",
              "      <td>2014-10-17</td>\n",
              "      <td>金</td>\n",
              "      <td>0</td>\n",
              "      <td>ヒレカツ</td>\n",
              "      <td>415.0</td>\n",
              "      <td>NaN</td>\n",
              "      <td>ママの会</td>\n",
              "      <td>NaN</td>\n",
              "      <td>快晴</td>\n",
              "      <td>--</td>\n",
              "      <td>23.0</td>\n",
              "    </tr>\n",
              "    <tr>\n",
              "      <th>12</th>\n",
              "      <td>2014-10-20</td>\n",
              "      <td>月</td>\n",
              "      <td>1</td>\n",
              "      <td>豚柳川</td>\n",
              "      <td>426.0</td>\n",
              "      <td>NaN</td>\n",
              "      <td>NaN</td>\n",
              "      <td>NaN</td>\n",
              "      <td>薄曇</td>\n",
              "      <td>--</td>\n",
              "      <td>23.9</td>\n",
              "    </tr>\n",
              "    <tr>\n",
              "      <th>13</th>\n",
              "      <td>2014-10-21</td>\n",
              "      <td>火</td>\n",
              "      <td>0</td>\n",
              "      <td>ポーク生姜焼き</td>\n",
              "      <td>410.0</td>\n",
              "      <td>NaN</td>\n",
              "      <td>NaN</td>\n",
              "      <td>NaN</td>\n",
              "      <td>雨</td>\n",
              "      <td>0</td>\n",
              "      <td>20.2</td>\n",
              "    </tr>\n",
              "    <tr>\n",
              "      <th>14</th>\n",
              "      <td>2014-10-22</td>\n",
              "      <td>水</td>\n",
              "      <td>1</td>\n",
              "      <td>麻婆豆腐</td>\n",
              "      <td>415.0</td>\n",
              "      <td>NaN</td>\n",
              "      <td>NaN</td>\n",
              "      <td>NaN</td>\n",
              "      <td>雨</td>\n",
              "      <td>0</td>\n",
              "      <td>15.5</td>\n",
              "    </tr>\n",
              "    <tr>\n",
              "      <th>15</th>\n",
              "      <td>2014-10-23</td>\n",
              "      <td>木</td>\n",
              "      <td>1</td>\n",
              "      <td>ビーフストロガノフ</td>\n",
              "      <td>428.0</td>\n",
              "      <td>NaN</td>\n",
              "      <td>NaN</td>\n",
              "      <td>NaN</td>\n",
              "      <td>雨</td>\n",
              "      <td>0.5</td>\n",
              "      <td>14.7</td>\n",
              "    </tr>\n",
              "    <tr>\n",
              "      <th>16</th>\n",
              "      <td>2014-10-24</td>\n",
              "      <td>金</td>\n",
              "      <td>0</td>\n",
              "      <td>唐揚げ丼</td>\n",
              "      <td>NaN</td>\n",
              "      <td>お楽しみメニュー</td>\n",
              "      <td>NaN</td>\n",
              "      <td>NaN</td>\n",
              "      <td>快晴</td>\n",
              "      <td>--</td>\n",
              "      <td>18.7</td>\n",
              "    </tr>\n",
              "    <tr>\n",
              "      <th>17</th>\n",
              "      <td>2014-10-27</td>\n",
              "      <td>月</td>\n",
              "      <td>1</td>\n",
              "      <td>マス塩焼き</td>\n",
              "      <td>407.0</td>\n",
              "      <td>NaN</td>\n",
              "      <td>NaN</td>\n",
              "      <td>NaN</td>\n",
              "      <td>薄曇</td>\n",
              "      <td>--</td>\n",
              "      <td>22.7</td>\n",
              "    </tr>\n",
              "    <tr>\n",
              "      <th>18</th>\n",
              "      <td>2014-10-28</td>\n",
              "      <td>火</td>\n",
              "      <td>1</td>\n",
              "      <td>チンジャオロース</td>\n",
              "      <td>425.0</td>\n",
              "      <td>NaN</td>\n",
              "      <td>NaN</td>\n",
              "      <td>NaN</td>\n",
              "      <td>快晴</td>\n",
              "      <td>--</td>\n",
              "      <td>19.1</td>\n",
              "    </tr>\n",
              "    <tr>\n",
              "      <th>19</th>\n",
              "      <td>2014-10-29</td>\n",
              "      <td>水</td>\n",
              "      <td>0</td>\n",
              "      <td>厚切イカフライ</td>\n",
              "      <td>430.0</td>\n",
              "      <td>NaN</td>\n",
              "      <td>NaN</td>\n",
              "      <td>NaN</td>\n",
              "      <td>快晴</td>\n",
              "      <td>--</td>\n",
              "      <td>19.6</td>\n",
              "    </tr>\n",
              "    <tr>\n",
              "      <th>20</th>\n",
              "      <td>2014-10-30</td>\n",
              "      <td>木</td>\n",
              "      <td>0</td>\n",
              "      <td>鶏肉と野菜の黒胡椒炒め</td>\n",
              "      <td>426.0</td>\n",
              "      <td>NaN</td>\n",
              "      <td>NaN</td>\n",
              "      <td>NaN</td>\n",
              "      <td>晴れ</td>\n",
              "      <td>--</td>\n",
              "      <td>19.6</td>\n",
              "    </tr>\n",
              "    <tr>\n",
              "      <th>21</th>\n",
              "      <td>2014-10-31</td>\n",
              "      <td>金</td>\n",
              "      <td>0</td>\n",
              "      <td>八宝菜</td>\n",
              "      <td>436.0</td>\n",
              "      <td>NaN</td>\n",
              "      <td>NaN</td>\n",
              "      <td>NaN</td>\n",
              "      <td>曇</td>\n",
              "      <td>--</td>\n",
              "      <td>18.8</td>\n",
              "    </tr>\n",
              "    <tr>\n",
              "      <th>22</th>\n",
              "      <td>2014-11-4</td>\n",
              "      <td>火</td>\n",
              "      <td>0</td>\n",
              "      <td>豚肉の生姜焼き</td>\n",
              "      <td>440.0</td>\n",
              "      <td>NaN</td>\n",
              "      <td>NaN</td>\n",
              "      <td>NaN</td>\n",
              "      <td>晴れ</td>\n",
              "      <td>--</td>\n",
              "      <td>18.9</td>\n",
              "    </tr>\n",
              "    <tr>\n",
              "      <th>23</th>\n",
              "      <td>2014-11-5</td>\n",
              "      <td>水</td>\n",
              "      <td>1</td>\n",
              "      <td>ハンバーグ</td>\n",
              "      <td>425.0</td>\n",
              "      <td>NaN</td>\n",
              "      <td>NaN</td>\n",
              "      <td>NaN</td>\n",
              "      <td>曇</td>\n",
              "      <td>--</td>\n",
              "      <td>16.0</td>\n",
              "    </tr>\n",
              "    <tr>\n",
              "      <th>24</th>\n",
              "      <td>2014-11-6</td>\n",
              "      <td>木</td>\n",
              "      <td>1</td>\n",
              "      <td>彩り野菜と鶏肉の黒酢あん</td>\n",
              "      <td>410.0</td>\n",
              "      <td>NaN</td>\n",
              "      <td>NaN</td>\n",
              "      <td>NaN</td>\n",
              "      <td>曇</td>\n",
              "      <td>--</td>\n",
              "      <td>19.2</td>\n",
              "    </tr>\n",
              "    <tr>\n",
              "      <th>25</th>\n",
              "      <td>2014-11-7</td>\n",
              "      <td>金</td>\n",
              "      <td>0</td>\n",
              "      <td>ポークカレー</td>\n",
              "      <td>NaN</td>\n",
              "      <td>お楽しみメニュー</td>\n",
              "      <td>NaN</td>\n",
              "      <td>NaN</td>\n",
              "      <td>晴れ</td>\n",
              "      <td>--</td>\n",
              "      <td>20.1</td>\n",
              "    </tr>\n",
              "    <tr>\n",
              "      <th>26</th>\n",
              "      <td>2014-11-10</td>\n",
              "      <td>月</td>\n",
              "      <td>0</td>\n",
              "      <td>親子煮</td>\n",
              "      <td>412.0</td>\n",
              "      <td>NaN</td>\n",
              "      <td>NaN</td>\n",
              "      <td>1.0</td>\n",
              "      <td>快晴</td>\n",
              "      <td>--</td>\n",
              "      <td>21.2</td>\n",
              "    </tr>\n",
              "    <tr>\n",
              "      <th>27</th>\n",
              "      <td>2014-11-11</td>\n",
              "      <td>火</td>\n",
              "      <td>0</td>\n",
              "      <td>ポークのバーベキューソテー</td>\n",
              "      <td>426.0</td>\n",
              "      <td>NaN</td>\n",
              "      <td>NaN</td>\n",
              "      <td>NaN</td>\n",
              "      <td>曇</td>\n",
              "      <td>0</td>\n",
              "      <td>14.7</td>\n",
              "    </tr>\n",
              "    <tr>\n",
              "      <th>28</th>\n",
              "      <td>2014-11-12</td>\n",
              "      <td>水</td>\n",
              "      <td>0</td>\n",
              "      <td>鶏肉の唐揚げ</td>\n",
              "      <td>418.0</td>\n",
              "      <td>NaN</td>\n",
              "      <td>NaN</td>\n",
              "      <td>NaN</td>\n",
              "      <td>曇</td>\n",
              "      <td>--</td>\n",
              "      <td>14.4</td>\n",
              "    </tr>\n",
              "    <tr>\n",
              "      <th>29</th>\n",
              "      <td>2014-11-13</td>\n",
              "      <td>木</td>\n",
              "      <td>1</td>\n",
              "      <td>白身魚味噌焼き</td>\n",
              "      <td>396.0</td>\n",
              "      <td>近隣に飲食店複合ビルオープン</td>\n",
              "      <td>キャリアアップ支援セミナー</td>\n",
              "      <td>NaN</td>\n",
              "      <td>快晴</td>\n",
              "      <td>--</td>\n",
              "      <td>19.5</td>\n",
              "    </tr>\n",
              "    <tr>\n",
              "      <th>30</th>\n",
              "      <td>2014-11-14</td>\n",
              "      <td>金</td>\n",
              "      <td>1</td>\n",
              "      <td>エビフライ・エビカツ</td>\n",
              "      <td>427.0</td>\n",
              "      <td>NaN</td>\n",
              "      <td>NaN</td>\n",
              "      <td>NaN</td>\n",
              "      <td>快晴</td>\n",
              "      <td>--</td>\n",
              "      <td>15.8</td>\n",
              "    </tr>\n",
              "    <tr>\n",
              "      <th>31</th>\n",
              "      <td>2014-11-17</td>\n",
              "      <td>月</td>\n",
              "      <td>1</td>\n",
              "      <td>野菜ごろごろシチュー</td>\n",
              "      <td>433.0</td>\n",
              "      <td>NaN</td>\n",
              "      <td>NaN</td>\n",
              "      <td>NaN</td>\n",
              "      <td>薄曇</td>\n",
              "      <td>--</td>\n",
              "      <td>14.3</td>\n",
              "    </tr>\n",
              "    <tr>\n",
              "      <th>32</th>\n",
              "      <td>2014-11-18</td>\n",
              "      <td>火</td>\n",
              "      <td>1</td>\n",
              "      <td>麻婆豆腐</td>\n",
              "      <td>409.0</td>\n",
              "      <td>NaN</td>\n",
              "      <td>NaN</td>\n",
              "      <td>NaN</td>\n",
              "      <td>快晴</td>\n",
              "      <td>--</td>\n",
              "      <td>16.1</td>\n",
              "    </tr>\n",
              "    <tr>\n",
              "      <th>33</th>\n",
              "      <td>2014-11-19</td>\n",
              "      <td>水</td>\n",
              "      <td>0</td>\n",
              "      <td>ベルギー風チキンのクリーム煮</td>\n",
              "      <td>430.0</td>\n",
              "      <td>料理長のこだわりメニュー</td>\n",
              "      <td>NaN</td>\n",
              "      <td>NaN</td>\n",
              "      <td>快晴</td>\n",
              "      <td>--</td>\n",
              "      <td>14.9</td>\n",
              "    </tr>\n",
              "    <tr>\n",
              "      <th>34</th>\n",
              "      <td>2014-11-20</td>\n",
              "      <td>木</td>\n",
              "      <td>1</td>\n",
              "      <td>スタミナ炒め</td>\n",
              "      <td>421.0</td>\n",
              "      <td>NaN</td>\n",
              "      <td>NaN</td>\n",
              "      <td>NaN</td>\n",
              "      <td>曇</td>\n",
              "      <td>--</td>\n",
              "      <td>10.5</td>\n",
              "    </tr>\n",
              "    <tr>\n",
              "      <th>35</th>\n",
              "      <td>2014-11-21</td>\n",
              "      <td>金</td>\n",
              "      <td>0</td>\n",
              "      <td>ロコモコ丼</td>\n",
              "      <td>NaN</td>\n",
              "      <td>お楽しみメニュー</td>\n",
              "      <td>NaN</td>\n",
              "      <td>NaN</td>\n",
              "      <td>快晴</td>\n",
              "      <td>--</td>\n",
              "      <td>14.9</td>\n",
              "    </tr>\n",
              "    <tr>\n",
              "      <th>36</th>\n",
              "      <td>2014-11-25</td>\n",
              "      <td>火</td>\n",
              "      <td>1</td>\n",
              "      <td>なすと挽肉のはさみ揚げ</td>\n",
              "      <td>460.0</td>\n",
              "      <td>NaN</td>\n",
              "      <td>NaN</td>\n",
              "      <td>NaN</td>\n",
              "      <td>雨</td>\n",
              "      <td>1.5</td>\n",
              "      <td>11.4</td>\n",
              "    </tr>\n",
              "    <tr>\n",
              "      <th>37</th>\n",
              "      <td>2014-11-26</td>\n",
              "      <td>水</td>\n",
              "      <td>1</td>\n",
              "      <td>鶏肉の治部煮風</td>\n",
              "      <td>415.0</td>\n",
              "      <td>NaN</td>\n",
              "      <td>NaN</td>\n",
              "      <td>NaN</td>\n",
              "      <td>雨</td>\n",
              "      <td>1</td>\n",
              "      <td>9.2</td>\n",
              "    </tr>\n",
              "    <tr>\n",
              "      <th>38</th>\n",
              "      <td>2014-11-27</td>\n",
              "      <td>木</td>\n",
              "      <td>0</td>\n",
              "      <td>牛丼風</td>\n",
              "      <td>420.0</td>\n",
              "      <td>NaN</td>\n",
              "      <td>NaN</td>\n",
              "      <td>NaN</td>\n",
              "      <td>快晴</td>\n",
              "      <td>--</td>\n",
              "      <td>15.1</td>\n",
              "    </tr>\n",
              "    <tr>\n",
              "      <th>39</th>\n",
              "      <td>2014-11-28</td>\n",
              "      <td>金</td>\n",
              "      <td>0</td>\n",
              "      <td>鶏肉のスイートチリソース</td>\n",
              "      <td>416.0</td>\n",
              "      <td>NaN</td>\n",
              "      <td>NaN</td>\n",
              "      <td>NaN</td>\n",
              "      <td>曇</td>\n",
              "      <td>--</td>\n",
              "      <td>15.3</td>\n",
              "    </tr>\n",
              "  </tbody>\n",
              "</table>\n",
              "</div>"
            ],
            "text/plain": [
              "      datetime week  soldout            name   kcal         remarks  \\\n",
              "0    2014-10-1    水        1           メンチカツ  420.0             NaN   \n",
              "1    2014-10-2    木        0       バーベキューチキン  415.0             NaN   \n",
              "2    2014-10-3    金        0      豚肉のマスタード焼き  405.0             NaN   \n",
              "3    2014-10-6    月        1            麻婆春雨  400.0             NaN   \n",
              "4    2014-10-7    火        0        厚揚げ肉みそ炒め  430.0             NaN   \n",
              "5    2014-10-8    水        0    完熟トマトのホットカレー  420.0             NaN   \n",
              "6    2014-10-9    木        0          豚キムチ炒め  435.0             NaN   \n",
              "7   2014-10-10    金        0          ポークカレー    NaN        お楽しみメニュー   \n",
              "8   2014-10-14    火        0         若鶏梅肉包揚げ  408.0             NaN   \n",
              "9   2014-10-15    水        1         ミックスグリル  450.0    料理長のこだわりメニュー   \n",
              "10  2014-10-16    木        0      豚肉と白菜の中華炒め  400.0             NaN   \n",
              "11  2014-10-17    金        0            ヒレカツ  415.0             NaN   \n",
              "12  2014-10-20    月        1             豚柳川  426.0             NaN   \n",
              "13  2014-10-21    火        0         ポーク生姜焼き  410.0             NaN   \n",
              "14  2014-10-22    水        1            麻婆豆腐  415.0             NaN   \n",
              "15  2014-10-23    木        1       ビーフストロガノフ  428.0             NaN   \n",
              "16  2014-10-24    金        0            唐揚げ丼    NaN        お楽しみメニュー   \n",
              "17  2014-10-27    月        1           マス塩焼き  407.0             NaN   \n",
              "18  2014-10-28    火        1        チンジャオロース  425.0             NaN   \n",
              "19  2014-10-29    水        0         厚切イカフライ  430.0             NaN   \n",
              "20  2014-10-30    木        0     鶏肉と野菜の黒胡椒炒め  426.0             NaN   \n",
              "21  2014-10-31    金        0             八宝菜  436.0             NaN   \n",
              "22   2014-11-4    火        0         豚肉の生姜焼き  440.0             NaN   \n",
              "23   2014-11-5    水        1           ハンバーグ  425.0             NaN   \n",
              "24   2014-11-6    木        1    彩り野菜と鶏肉の黒酢あん  410.0             NaN   \n",
              "25   2014-11-7    金        0          ポークカレー    NaN        お楽しみメニュー   \n",
              "26  2014-11-10    月        0             親子煮  412.0             NaN   \n",
              "27  2014-11-11    火        0   ポークのバーベキューソテー  426.0             NaN   \n",
              "28  2014-11-12    水        0          鶏肉の唐揚げ  418.0             NaN   \n",
              "29  2014-11-13    木        1         白身魚味噌焼き  396.0  近隣に飲食店複合ビルオープン   \n",
              "30  2014-11-14    金        1      エビフライ・エビカツ  427.0             NaN   \n",
              "31  2014-11-17    月        1      野菜ごろごろシチュー  433.0             NaN   \n",
              "32  2014-11-18    火        1            麻婆豆腐  409.0             NaN   \n",
              "33  2014-11-19    水        0  ベルギー風チキンのクリーム煮  430.0    料理長のこだわりメニュー   \n",
              "34  2014-11-20    木        1          スタミナ炒め  421.0             NaN   \n",
              "35  2014-11-21    金        0           ロコモコ丼    NaN        お楽しみメニュー   \n",
              "36  2014-11-25    火        1     なすと挽肉のはさみ揚げ  460.0             NaN   \n",
              "37  2014-11-26    水        1         鶏肉の治部煮風  415.0             NaN   \n",
              "38  2014-11-27    木        0             牛丼風  420.0             NaN   \n",
              "39  2014-11-28    金        0    鶏肉のスイートチリソース  416.0             NaN   \n",
              "\n",
              "            event  payday weather precipitation  temperature  \n",
              "0             NaN     NaN       雨             0         20.2  \n",
              "1             NaN     NaN       曇            --         23.9  \n",
              "2             NaN     NaN      晴れ            --         28.7  \n",
              "3             NaN     NaN       雨           0.5         21.5  \n",
              "4             NaN     NaN      晴れ            --         22.1  \n",
              "5             NaN     NaN      晴れ            --         23.3  \n",
              "6   キャリアアップ支援セミナー     NaN       曇            --         22.5  \n",
              "7             NaN     1.0      薄曇            --         26.1  \n",
              "8             NaN     NaN      快晴            --         26.8  \n",
              "9             NaN     NaN       雨           1.5         15.6  \n",
              "10            NaN     NaN      晴れ            --         18.6  \n",
              "11           ママの会     NaN      快晴            --         23.0  \n",
              "12            NaN     NaN      薄曇            --         23.9  \n",
              "13            NaN     NaN       雨             0         20.2  \n",
              "14            NaN     NaN       雨             0         15.5  \n",
              "15            NaN     NaN       雨           0.5         14.7  \n",
              "16            NaN     NaN      快晴            --         18.7  \n",
              "17            NaN     NaN      薄曇            --         22.7  \n",
              "18            NaN     NaN      快晴            --         19.1  \n",
              "19            NaN     NaN      快晴            --         19.6  \n",
              "20            NaN     NaN      晴れ            --         19.6  \n",
              "21            NaN     NaN       曇            --         18.8  \n",
              "22            NaN     NaN      晴れ            --         18.9  \n",
              "23            NaN     NaN       曇            --         16.0  \n",
              "24            NaN     NaN       曇            --         19.2  \n",
              "25            NaN     NaN      晴れ            --         20.1  \n",
              "26            NaN     1.0      快晴            --         21.2  \n",
              "27            NaN     NaN       曇             0         14.7  \n",
              "28            NaN     NaN       曇            --         14.4  \n",
              "29  キャリアアップ支援セミナー     NaN      快晴            --         19.5  \n",
              "30            NaN     NaN      快晴            --         15.8  \n",
              "31            NaN     NaN      薄曇            --         14.3  \n",
              "32            NaN     NaN      快晴            --         16.1  \n",
              "33            NaN     NaN      快晴            --         14.9  \n",
              "34            NaN     NaN       曇            --         10.5  \n",
              "35            NaN     NaN      快晴            --         14.9  \n",
              "36            NaN     NaN       雨           1.5         11.4  \n",
              "37            NaN     NaN       雨             1          9.2  \n",
              "38            NaN     NaN      快晴            --         15.1  \n",
              "39            NaN     NaN       曇            --         15.3  "
            ]
          },
          "metadata": {
            "tags": []
          },
          "execution_count": 5
        }
      ]
    },
    {
      "cell_type": "code",
      "metadata": {
        "id": "KBCMCnq_ZVYM",
        "colab_type": "code",
        "colab": {}
      },
      "source": [
        ""
      ],
      "execution_count": 0,
      "outputs": []
    },
    {
      "cell_type": "code",
      "metadata": {
        "id": "z7_sM-QxZVYP",
        "colab_type": "code",
        "colab": {},
        "outputId": "96a924b3-73b6-4b24-a5f3-173e4a373f1e"
      },
      "source": [
        "df1.shape"
      ],
      "execution_count": 0,
      "outputs": [
        {
          "output_type": "execute_result",
          "data": {
            "text/plain": [
              "(207, 12)"
            ]
          },
          "metadata": {
            "tags": []
          },
          "execution_count": 4
        }
      ]
    },
    {
      "cell_type": "code",
      "metadata": {
        "id": "8Ji7mhhpZVYU",
        "colab_type": "code",
        "colab": {},
        "outputId": "ace324f7-5b16-4156-805b-c9c18e277bfe"
      },
      "source": [
        "df2.shape"
      ],
      "execution_count": 0,
      "outputs": [
        {
          "output_type": "execute_result",
          "data": {
            "text/plain": [
              "(40, 11)"
            ]
          },
          "metadata": {
            "tags": []
          },
          "execution_count": 5
        }
      ]
    },
    {
      "cell_type": "code",
      "metadata": {
        "id": "42jEGlKvZVYX",
        "colab_type": "code",
        "colab": {}
      },
      "source": [
        "df1['weather']=df1['weather'].str.replace('快晴','0')\n",
        "df1['weather']=df1['weather'].str.replace('晴れ','1')\n",
        "df1['weather']=df1['weather'].str.replace('曇','2')\n",
        "df1['weather']=df1['weather'].str.replace('薄2','3')\n",
        "df1['weather']=df1['weather'].str.replace('雨','4')\n",
        "df1['weather']=df1['weather'].str.replace('雪','5')\n",
        "df1['weather']=df1['weather'].str.replace('雷電','6')"
      ],
      "execution_count": 0,
      "outputs": []
    },
    {
      "cell_type": "code",
      "metadata": {
        "id": "DAG9mcioZVYd",
        "colab_type": "code",
        "colab": {}
      },
      "source": [
        ""
      ],
      "execution_count": 0,
      "outputs": []
    },
    {
      "cell_type": "code",
      "metadata": {
        "id": "2jXdO8esZVYg",
        "colab_type": "code",
        "colab": {}
      },
      "source": [
        "df1['weather']=df1['weather'].astype(float)"
      ],
      "execution_count": 0,
      "outputs": []
    },
    {
      "cell_type": "code",
      "metadata": {
        "id": "QXfQ4tRpZVYj",
        "colab_type": "code",
        "colab": {}
      },
      "source": [
        ""
      ],
      "execution_count": 0,
      "outputs": []
    },
    {
      "cell_type": "code",
      "metadata": {
        "id": "0YfqBrWhZVYr",
        "colab_type": "code",
        "colab": {}
      },
      "source": [
        "df1=df1.dropna(subset=['kcal'])"
      ],
      "execution_count": 0,
      "outputs": []
    },
    {
      "cell_type": "code",
      "metadata": {
        "id": "tFVrcxb0ZVYw",
        "colab_type": "code",
        "colab": {}
      },
      "source": [
        ""
      ],
      "execution_count": 0,
      "outputs": []
    },
    {
      "cell_type": "code",
      "metadata": {
        "id": "rE3d81P6ZVYz",
        "colab_type": "code",
        "colab": {},
        "outputId": "6442bcba-72ec-451e-8489-c6fb557a3d63"
      },
      "source": [
        "df1.head()"
      ],
      "execution_count": 0,
      "outputs": [
        {
          "output_type": "execute_result",
          "data": {
            "text/html": [
              "<div>\n",
              "<style scoped>\n",
              "    .dataframe tbody tr th:only-of-type {\n",
              "        vertical-align: middle;\n",
              "    }\n",
              "\n",
              "    .dataframe tbody tr th {\n",
              "        vertical-align: top;\n",
              "    }\n",
              "\n",
              "    .dataframe thead th {\n",
              "        text-align: right;\n",
              "    }\n",
              "</style>\n",
              "<table border=\"1\" class=\"dataframe\">\n",
              "  <thead>\n",
              "    <tr style=\"text-align: right;\">\n",
              "      <th></th>\n",
              "      <th>datetime</th>\n",
              "      <th>y</th>\n",
              "      <th>week</th>\n",
              "      <th>soldout</th>\n",
              "      <th>name</th>\n",
              "      <th>kcal</th>\n",
              "      <th>remarks</th>\n",
              "      <th>event</th>\n",
              "      <th>payday</th>\n",
              "      <th>weather</th>\n",
              "      <th>precipitation</th>\n",
              "      <th>temperature</th>\n",
              "    </tr>\n",
              "  </thead>\n",
              "  <tbody>\n",
              "    <tr>\n",
              "      <th>28</th>\n",
              "      <td>2014-1-7</td>\n",
              "      <td>131</td>\n",
              "      <td>火</td>\n",
              "      <td>0</td>\n",
              "      <td>カレー入りソーセージカツ</td>\n",
              "      <td>404.0</td>\n",
              "      <td>NaN</td>\n",
              "      <td>NaN</td>\n",
              "      <td>NaN</td>\n",
              "      <td>0.0</td>\n",
              "      <td>--</td>\n",
              "      <td>7.3</td>\n",
              "    </tr>\n",
              "    <tr>\n",
              "      <th>29</th>\n",
              "      <td>2014-1-8</td>\n",
              "      <td>128</td>\n",
              "      <td>水</td>\n",
              "      <td>0</td>\n",
              "      <td>豚肉の生姜焼</td>\n",
              "      <td>462.0</td>\n",
              "      <td>NaN</td>\n",
              "      <td>NaN</td>\n",
              "      <td>NaN</td>\n",
              "      <td>2.0</td>\n",
              "      <td>--</td>\n",
              "      <td>9.8</td>\n",
              "    </tr>\n",
              "    <tr>\n",
              "      <th>30</th>\n",
              "      <td>2014-1-9</td>\n",
              "      <td>129</td>\n",
              "      <td>木</td>\n",
              "      <td>1</td>\n",
              "      <td>鶏チリソース</td>\n",
              "      <td>435.0</td>\n",
              "      <td>NaN</td>\n",
              "      <td>NaN</td>\n",
              "      <td>NaN</td>\n",
              "      <td>2.0</td>\n",
              "      <td>--</td>\n",
              "      <td>10.9</td>\n",
              "    </tr>\n",
              "    <tr>\n",
              "      <th>31</th>\n",
              "      <td>2014-1-10</td>\n",
              "      <td>87</td>\n",
              "      <td>金</td>\n",
              "      <td>0</td>\n",
              "      <td>手作りロースカツ</td>\n",
              "      <td>440.0</td>\n",
              "      <td>NaN</td>\n",
              "      <td>NaN</td>\n",
              "      <td>1.0</td>\n",
              "      <td>0.0</td>\n",
              "      <td>--</td>\n",
              "      <td>5.1</td>\n",
              "    </tr>\n",
              "    <tr>\n",
              "      <th>32</th>\n",
              "      <td>2014-1-14</td>\n",
              "      <td>129</td>\n",
              "      <td>火</td>\n",
              "      <td>1</td>\n",
              "      <td>鶏の照り焼きマスタード</td>\n",
              "      <td>376.0</td>\n",
              "      <td>NaN</td>\n",
              "      <td>NaN</td>\n",
              "      <td>NaN</td>\n",
              "      <td>1.0</td>\n",
              "      <td>--</td>\n",
              "      <td>5.8</td>\n",
              "    </tr>\n",
              "  </tbody>\n",
              "</table>\n",
              "</div>"
            ],
            "text/plain": [
              "     datetime    y week  soldout          name   kcal remarks event  payday  \\\n",
              "28   2014-1-7  131    火        0  カレー入りソーセージカツ  404.0     NaN   NaN     NaN   \n",
              "29   2014-1-8  128    水        0        豚肉の生姜焼  462.0     NaN   NaN     NaN   \n",
              "30   2014-1-9  129    木        1        鶏チリソース  435.0     NaN   NaN     NaN   \n",
              "31  2014-1-10   87    金        0      手作りロースカツ  440.0     NaN   NaN     1.0   \n",
              "32  2014-1-14  129    火        1   鶏の照り焼きマスタード  376.0     NaN   NaN     NaN   \n",
              "\n",
              "    weather precipitation  temperature  \n",
              "28      0.0            --          7.3  \n",
              "29      2.0            --          9.8  \n",
              "30      2.0            --         10.9  \n",
              "31      0.0            --          5.1  \n",
              "32      1.0            --          5.8  "
            ]
          },
          "metadata": {
            "tags": []
          },
          "execution_count": 9
        }
      ]
    },
    {
      "cell_type": "code",
      "metadata": {
        "id": "rzNDnY-5ZVY6",
        "colab_type": "code",
        "colab": {}
      },
      "source": [
        ""
      ],
      "execution_count": 0,
      "outputs": []
    },
    {
      "cell_type": "code",
      "metadata": {
        "id": "J75HCvLHZVY_",
        "colab_type": "code",
        "colab": {}
      },
      "source": [
        "namelist = df1[\"name\"].unique()\n",
        "for i in range(len(namelist)):\n",
        "    df1[\"name\"] = df1[\"name\"].replace(namelist[i], str(i))"
      ],
      "execution_count": 0,
      "outputs": []
    },
    {
      "cell_type": "code",
      "metadata": {
        "id": "jP5peeBPZVZC",
        "colab_type": "code",
        "colab": {}
      },
      "source": [
        ""
      ],
      "execution_count": 0,
      "outputs": []
    },
    {
      "cell_type": "code",
      "metadata": {
        "id": "qDVzQqVjZVZG",
        "colab_type": "code",
        "colab": {}
      },
      "source": [
        "df1['name']=df1['name'].astype(float)"
      ],
      "execution_count": 0,
      "outputs": []
    },
    {
      "cell_type": "code",
      "metadata": {
        "id": "0NPxQ7YvZVZJ",
        "colab_type": "code",
        "colab": {}
      },
      "source": [
        ""
      ],
      "execution_count": 0,
      "outputs": []
    },
    {
      "cell_type": "code",
      "metadata": {
        "id": "tsOp9ksCZVZM",
        "colab_type": "code",
        "colab": {},
        "outputId": "52732cbe-5959-4c20-fb9b-9dfcaa30f7fe"
      },
      "source": [
        "df1['name']"
      ],
      "execution_count": 0,
      "outputs": [
        {
          "output_type": "execute_result",
          "data": {
            "text/plain": [
              "28       0.0\n",
              "29       1.0\n",
              "30       2.0\n",
              "31       3.0\n",
              "32       4.0\n",
              "       ...  \n",
              "201    126.0\n",
              "202    127.0\n",
              "203    128.0\n",
              "205    129.0\n",
              "206    130.0\n",
              "Name: name, Length: 166, dtype: float64"
            ]
          },
          "metadata": {
            "tags": []
          },
          "execution_count": 12
        }
      ]
    },
    {
      "cell_type": "code",
      "metadata": {
        "id": "F20ssdD5ZVZP",
        "colab_type": "code",
        "colab": {}
      },
      "source": [
        ""
      ],
      "execution_count": 0,
      "outputs": []
    },
    {
      "cell_type": "code",
      "metadata": {
        "id": "yUWnst8-ZVZR",
        "colab_type": "code",
        "colab": {}
      },
      "source": [
        "df1['y']=df1['y'].astype(float)"
      ],
      "execution_count": 0,
      "outputs": []
    },
    {
      "cell_type": "code",
      "metadata": {
        "id": "ipz5o88vZVZV",
        "colab_type": "code",
        "colab": {}
      },
      "source": [
        ""
      ],
      "execution_count": 0,
      "outputs": []
    },
    {
      "cell_type": "code",
      "metadata": {
        "id": "56PaDuCoZVZX",
        "colab_type": "code",
        "colab": {},
        "outputId": "f5be4e29-b1ff-485a-8ae7-5ed18fccfa27"
      },
      "source": [
        "df1['y']"
      ],
      "execution_count": 0,
      "outputs": [
        {
          "output_type": "execute_result",
          "data": {
            "text/plain": [
              "28     131.0\n",
              "29     128.0\n",
              "30     129.0\n",
              "31      87.0\n",
              "32     129.0\n",
              "       ...  \n",
              "201     29.0\n",
              "202     59.0\n",
              "203     50.0\n",
              "205     56.0\n",
              "206     40.0\n",
              "Name: y, Length: 166, dtype: float64"
            ]
          },
          "metadata": {
            "tags": []
          },
          "execution_count": 14
        }
      ]
    },
    {
      "cell_type": "code",
      "metadata": {
        "id": "R8nAB04XZVZa",
        "colab_type": "code",
        "colab": {}
      },
      "source": [
        ""
      ],
      "execution_count": 0,
      "outputs": []
    },
    {
      "cell_type": "code",
      "metadata": {
        "id": "5x328okCZVZc",
        "colab_type": "code",
        "colab": {},
        "outputId": "e728675e-7fb6-4b2a-a2be-df62201e5488"
      },
      "source": [
        "weatherlist = df1[\"weather\"].unique()\n",
        "print(weatherlist)"
      ],
      "execution_count": 0,
      "outputs": [
        {
          "output_type": "stream",
          "text": [
            "[0. 2. 1. 4. 5. 3. 6.]\n"
          ],
          "name": "stdout"
        }
      ]
    },
    {
      "cell_type": "code",
      "metadata": {
        "id": "RAwgBJcPZVZf",
        "colab_type": "code",
        "colab": {},
        "outputId": "4f41f132-0478-4aa2-9a7a-1e38e71f1244"
      },
      "source": [
        "print(len(weatherlist))"
      ],
      "execution_count": 0,
      "outputs": [
        {
          "output_type": "stream",
          "text": [
            "7\n"
          ],
          "name": "stdout"
        }
      ]
    },
    {
      "cell_type": "code",
      "metadata": {
        "id": "KkXfKVOOZVZi",
        "colab_type": "code",
        "colab": {}
      },
      "source": [
        "#ここから分析作業に入るよ"
      ],
      "execution_count": 0,
      "outputs": []
    },
    {
      "cell_type": "code",
      "metadata": {
        "id": "WTNzAA8rZVZm",
        "colab_type": "code",
        "colab": {},
        "outputId": "85173893-cad1-4139-b966-55d7a5c25fa3"
      },
      "source": [
        "df1.head()"
      ],
      "execution_count": 0,
      "outputs": [
        {
          "output_type": "execute_result",
          "data": {
            "text/html": [
              "<div>\n",
              "<style scoped>\n",
              "    .dataframe tbody tr th:only-of-type {\n",
              "        vertical-align: middle;\n",
              "    }\n",
              "\n",
              "    .dataframe tbody tr th {\n",
              "        vertical-align: top;\n",
              "    }\n",
              "\n",
              "    .dataframe thead th {\n",
              "        text-align: right;\n",
              "    }\n",
              "</style>\n",
              "<table border=\"1\" class=\"dataframe\">\n",
              "  <thead>\n",
              "    <tr style=\"text-align: right;\">\n",
              "      <th></th>\n",
              "      <th>datetime</th>\n",
              "      <th>y</th>\n",
              "      <th>week</th>\n",
              "      <th>soldout</th>\n",
              "      <th>name</th>\n",
              "      <th>kcal</th>\n",
              "      <th>remarks</th>\n",
              "      <th>event</th>\n",
              "      <th>payday</th>\n",
              "      <th>weather</th>\n",
              "      <th>precipitation</th>\n",
              "      <th>temperature</th>\n",
              "    </tr>\n",
              "  </thead>\n",
              "  <tbody>\n",
              "    <tr>\n",
              "      <th>28</th>\n",
              "      <td>2014-1-7</td>\n",
              "      <td>131.0</td>\n",
              "      <td>火</td>\n",
              "      <td>0</td>\n",
              "      <td>0.0</td>\n",
              "      <td>404.0</td>\n",
              "      <td>NaN</td>\n",
              "      <td>NaN</td>\n",
              "      <td>NaN</td>\n",
              "      <td>0.0</td>\n",
              "      <td>--</td>\n",
              "      <td>7.3</td>\n",
              "    </tr>\n",
              "    <tr>\n",
              "      <th>29</th>\n",
              "      <td>2014-1-8</td>\n",
              "      <td>128.0</td>\n",
              "      <td>水</td>\n",
              "      <td>0</td>\n",
              "      <td>1.0</td>\n",
              "      <td>462.0</td>\n",
              "      <td>NaN</td>\n",
              "      <td>NaN</td>\n",
              "      <td>NaN</td>\n",
              "      <td>2.0</td>\n",
              "      <td>--</td>\n",
              "      <td>9.8</td>\n",
              "    </tr>\n",
              "    <tr>\n",
              "      <th>30</th>\n",
              "      <td>2014-1-9</td>\n",
              "      <td>129.0</td>\n",
              "      <td>木</td>\n",
              "      <td>1</td>\n",
              "      <td>2.0</td>\n",
              "      <td>435.0</td>\n",
              "      <td>NaN</td>\n",
              "      <td>NaN</td>\n",
              "      <td>NaN</td>\n",
              "      <td>2.0</td>\n",
              "      <td>--</td>\n",
              "      <td>10.9</td>\n",
              "    </tr>\n",
              "    <tr>\n",
              "      <th>31</th>\n",
              "      <td>2014-1-10</td>\n",
              "      <td>87.0</td>\n",
              "      <td>金</td>\n",
              "      <td>0</td>\n",
              "      <td>3.0</td>\n",
              "      <td>440.0</td>\n",
              "      <td>NaN</td>\n",
              "      <td>NaN</td>\n",
              "      <td>1.0</td>\n",
              "      <td>0.0</td>\n",
              "      <td>--</td>\n",
              "      <td>5.1</td>\n",
              "    </tr>\n",
              "    <tr>\n",
              "      <th>32</th>\n",
              "      <td>2014-1-14</td>\n",
              "      <td>129.0</td>\n",
              "      <td>火</td>\n",
              "      <td>1</td>\n",
              "      <td>4.0</td>\n",
              "      <td>376.0</td>\n",
              "      <td>NaN</td>\n",
              "      <td>NaN</td>\n",
              "      <td>NaN</td>\n",
              "      <td>1.0</td>\n",
              "      <td>--</td>\n",
              "      <td>5.8</td>\n",
              "    </tr>\n",
              "  </tbody>\n",
              "</table>\n",
              "</div>"
            ],
            "text/plain": [
              "     datetime      y week  soldout  name   kcal remarks event  payday  \\\n",
              "28   2014-1-7  131.0    火        0   0.0  404.0     NaN   NaN     NaN   \n",
              "29   2014-1-8  128.0    水        0   1.0  462.0     NaN   NaN     NaN   \n",
              "30   2014-1-9  129.0    木        1   2.0  435.0     NaN   NaN     NaN   \n",
              "31  2014-1-10   87.0    金        0   3.0  440.0     NaN   NaN     1.0   \n",
              "32  2014-1-14  129.0    火        1   4.0  376.0     NaN   NaN     NaN   \n",
              "\n",
              "    weather precipitation  temperature  \n",
              "28      0.0            --          7.3  \n",
              "29      2.0            --          9.8  \n",
              "30      2.0            --         10.9  \n",
              "31      0.0            --          5.1  \n",
              "32      1.0            --          5.8  "
            ]
          },
          "metadata": {
            "tags": []
          },
          "execution_count": 18
        }
      ]
    },
    {
      "cell_type": "code",
      "metadata": {
        "id": "dV2vgussZVZo",
        "colab_type": "code",
        "colab": {}
      },
      "source": [
        "X=df1[['name','kcal','weather','temperature']]\n",
        "y=df1['y']"
      ],
      "execution_count": 0,
      "outputs": []
    },
    {
      "cell_type": "code",
      "metadata": {
        "id": "Z2Dytx6hZVZq",
        "colab_type": "code",
        "colab": {}
      },
      "source": [
        ""
      ],
      "execution_count": 0,
      "outputs": []
    },
    {
      "cell_type": "code",
      "metadata": {
        "id": "SApWFf9MZVZs",
        "colab_type": "code",
        "colab": {}
      },
      "source": [
        "from sklearn.model_selection import train_test_split\n",
        "X_train,X_test,y_train,y_test=train_test_split(X,y,test_size=0.3)"
      ],
      "execution_count": 0,
      "outputs": []
    },
    {
      "cell_type": "code",
      "metadata": {
        "id": "eSLFR5XBZVZv",
        "colab_type": "code",
        "colab": {}
      },
      "source": [
        "from sklearn.linear_model import LinearRegression\n",
        "lr=LinearRegression()"
      ],
      "execution_count": 0,
      "outputs": []
    },
    {
      "cell_type": "code",
      "metadata": {
        "id": "EFZZ1r_mZVZz",
        "colab_type": "code",
        "colab": {},
        "outputId": "7cd9acf6-efaa-40e6-983d-c1fc1762405d"
      },
      "source": [
        "lr.fit(X_train,y_train)"
      ],
      "execution_count": 0,
      "outputs": [
        {
          "output_type": "execute_result",
          "data": {
            "text/plain": [
              "LinearRegression(copy_X=True, fit_intercept=True, n_jobs=None, normalize=False)"
            ]
          },
          "metadata": {
            "tags": []
          },
          "execution_count": 32
        }
      ]
    },
    {
      "cell_type": "code",
      "metadata": {
        "id": "ZLlt1fCsZVZ2",
        "colab_type": "code",
        "colab": {},
        "outputId": "2ebb623d-a13a-4d91-f175-91230b95043d"
      },
      "source": [
        "print(lr.coef_,lr.intercept_)"
      ],
      "execution_count": 0,
      "outputs": [
        {
          "output_type": "stream",
          "text": [
            "[-0.19965789  0.09594984 -2.17263914 -1.75820342] 88.07827633243853\n"
          ],
          "name": "stdout"
        }
      ]
    },
    {
      "cell_type": "code",
      "metadata": {
        "id": "fWGu-m47ZVZ5",
        "colab_type": "code",
        "colab": {},
        "outputId": "b259ca6c-339d-4001-bfb7-09c4c4c39c98"
      },
      "source": [
        "print(lr.score(X_train,y_train))"
      ],
      "execution_count": 0,
      "outputs": [
        {
          "output_type": "stream",
          "text": [
            "0.6587001059373324\n"
          ],
          "name": "stdout"
        }
      ]
    },
    {
      "cell_type": "code",
      "metadata": {
        "id": "PLn30wXtZVZ7",
        "colab_type": "code",
        "colab": {},
        "outputId": "30878ab0-d132-40e6-d256-f392f5ebde45"
      },
      "source": [
        "print(lr.score(X_test,y_test))"
      ],
      "execution_count": 0,
      "outputs": [
        {
          "output_type": "stream",
          "text": [
            "0.616148636305855\n"
          ],
          "name": "stdout"
        }
      ]
    },
    {
      "cell_type": "code",
      "metadata": {
        "id": "c1N9nS-cZVaK",
        "colab_type": "code",
        "colab": {}
      },
      "source": [
        "#ここから問い2に入る"
      ],
      "execution_count": 0,
      "outputs": []
    },
    {
      "cell_type": "code",
      "metadata": {
        "id": "X-wvSlbjZVaN",
        "colab_type": "code",
        "colab": {},
        "outputId": "cf402230-2a11-418e-c840-cd4dc06ffb23"
      },
      "source": [
        "df1.head()"
      ],
      "execution_count": 0,
      "outputs": [
        {
          "output_type": "execute_result",
          "data": {
            "text/html": [
              "<div>\n",
              "<style scoped>\n",
              "    .dataframe tbody tr th:only-of-type {\n",
              "        vertical-align: middle;\n",
              "    }\n",
              "\n",
              "    .dataframe tbody tr th {\n",
              "        vertical-align: top;\n",
              "    }\n",
              "\n",
              "    .dataframe thead th {\n",
              "        text-align: right;\n",
              "    }\n",
              "</style>\n",
              "<table border=\"1\" class=\"dataframe\">\n",
              "  <thead>\n",
              "    <tr style=\"text-align: right;\">\n",
              "      <th></th>\n",
              "      <th>datetime</th>\n",
              "      <th>y</th>\n",
              "      <th>week</th>\n",
              "      <th>soldout</th>\n",
              "      <th>name</th>\n",
              "      <th>kcal</th>\n",
              "      <th>remarks</th>\n",
              "      <th>event</th>\n",
              "      <th>payday</th>\n",
              "      <th>weather</th>\n",
              "      <th>precipitation</th>\n",
              "      <th>temperature</th>\n",
              "    </tr>\n",
              "  </thead>\n",
              "  <tbody>\n",
              "    <tr>\n",
              "      <th>28</th>\n",
              "      <td>2014-1-7</td>\n",
              "      <td>131.0</td>\n",
              "      <td>火</td>\n",
              "      <td>0.0</td>\n",
              "      <td>0.0</td>\n",
              "      <td>404.0</td>\n",
              "      <td>NaN</td>\n",
              "      <td>NaN</td>\n",
              "      <td>NaN</td>\n",
              "      <td>0.0</td>\n",
              "      <td>--</td>\n",
              "      <td>7.3</td>\n",
              "    </tr>\n",
              "    <tr>\n",
              "      <th>29</th>\n",
              "      <td>2014-1-8</td>\n",
              "      <td>128.0</td>\n",
              "      <td>水</td>\n",
              "      <td>0.0</td>\n",
              "      <td>1.0</td>\n",
              "      <td>462.0</td>\n",
              "      <td>NaN</td>\n",
              "      <td>NaN</td>\n",
              "      <td>NaN</td>\n",
              "      <td>2.0</td>\n",
              "      <td>--</td>\n",
              "      <td>9.8</td>\n",
              "    </tr>\n",
              "    <tr>\n",
              "      <th>30</th>\n",
              "      <td>2014-1-9</td>\n",
              "      <td>129.0</td>\n",
              "      <td>木</td>\n",
              "      <td>1.0</td>\n",
              "      <td>2.0</td>\n",
              "      <td>435.0</td>\n",
              "      <td>NaN</td>\n",
              "      <td>NaN</td>\n",
              "      <td>NaN</td>\n",
              "      <td>2.0</td>\n",
              "      <td>--</td>\n",
              "      <td>10.9</td>\n",
              "    </tr>\n",
              "    <tr>\n",
              "      <th>31</th>\n",
              "      <td>2014-1-10</td>\n",
              "      <td>87.0</td>\n",
              "      <td>金</td>\n",
              "      <td>0.0</td>\n",
              "      <td>3.0</td>\n",
              "      <td>440.0</td>\n",
              "      <td>NaN</td>\n",
              "      <td>NaN</td>\n",
              "      <td>1.0</td>\n",
              "      <td>0.0</td>\n",
              "      <td>--</td>\n",
              "      <td>5.1</td>\n",
              "    </tr>\n",
              "    <tr>\n",
              "      <th>32</th>\n",
              "      <td>2014-1-14</td>\n",
              "      <td>129.0</td>\n",
              "      <td>火</td>\n",
              "      <td>1.0</td>\n",
              "      <td>4.0</td>\n",
              "      <td>376.0</td>\n",
              "      <td>NaN</td>\n",
              "      <td>NaN</td>\n",
              "      <td>NaN</td>\n",
              "      <td>1.0</td>\n",
              "      <td>--</td>\n",
              "      <td>5.8</td>\n",
              "    </tr>\n",
              "  </tbody>\n",
              "</table>\n",
              "</div>"
            ],
            "text/plain": [
              "     datetime      y week  soldout  name   kcal remarks event  payday  \\\n",
              "28   2014-1-7  131.0    火      0.0   0.0  404.0     NaN   NaN     NaN   \n",
              "29   2014-1-8  128.0    水      0.0   1.0  462.0     NaN   NaN     NaN   \n",
              "30   2014-1-9  129.0    木      1.0   2.0  435.0     NaN   NaN     NaN   \n",
              "31  2014-1-10   87.0    金      0.0   3.0  440.0     NaN   NaN     1.0   \n",
              "32  2014-1-14  129.0    火      1.0   4.0  376.0     NaN   NaN     NaN   \n",
              "\n",
              "    weather precipitation  temperature  \n",
              "28      0.0            --          7.3  \n",
              "29      2.0            --          9.8  \n",
              "30      2.0            --         10.9  \n",
              "31      0.0            --          5.1  \n",
              "32      1.0            --          5.8  "
            ]
          },
          "metadata": {
            "tags": []
          },
          "execution_count": 45
        }
      ]
    },
    {
      "cell_type": "code",
      "metadata": {
        "id": "dzWvCNH1ZVaQ",
        "colab_type": "code",
        "colab": {}
      },
      "source": [
        ""
      ],
      "execution_count": 0,
      "outputs": []
    },
    {
      "cell_type": "code",
      "metadata": {
        "id": "1lCExHe_ZVaT",
        "colab_type": "code",
        "colab": {}
      },
      "source": [
        "X=df1[['y','name','kcal','weather','temperature']]\n",
        "df1['soldout']=df1['soldout'].astype(float)\n",
        "y=df1['soldout']"
      ],
      "execution_count": 0,
      "outputs": []
    },
    {
      "cell_type": "code",
      "metadata": {
        "id": "iTsDMyZ_ZVaW",
        "colab_type": "code",
        "colab": {},
        "outputId": "84ddda09-2860-45f5-ee2d-26961cbca159"
      },
      "source": [
        "X.head()\n",
        "y.head()"
      ],
      "execution_count": 0,
      "outputs": [
        {
          "output_type": "execute_result",
          "data": {
            "text/plain": [
              "28    0.0\n",
              "29    0.0\n",
              "30    1.0\n",
              "31    0.0\n",
              "32    1.0\n",
              "Name: soldout, dtype: float64"
            ]
          },
          "metadata": {
            "tags": []
          },
          "execution_count": 55
        }
      ]
    },
    {
      "cell_type": "code",
      "metadata": {
        "id": "QYVaMbr0ZVaa",
        "colab_type": "code",
        "colab": {}
      },
      "source": [
        "X_train,X_test,y_train,y_test=train_test_split(X,y,test_size=0.3)\n",
        "#やっぱりここは順番通りに書かないといけないらしい。"
      ],
      "execution_count": 0,
      "outputs": []
    },
    {
      "cell_type": "code",
      "metadata": {
        "id": "z866OcnzZVae",
        "colab_type": "code",
        "colab": {}
      },
      "source": [
        ""
      ],
      "execution_count": 0,
      "outputs": []
    },
    {
      "cell_type": "code",
      "metadata": {
        "id": "IoxZSOICZVai",
        "colab_type": "code",
        "colab": {}
      },
      "source": [
        "from sklearn.linear_model import LogisticRegression\n",
        "lr=LogisticRegression()"
      ],
      "execution_count": 0,
      "outputs": []
    },
    {
      "cell_type": "code",
      "metadata": {
        "id": "tp1STwguZVam",
        "colab_type": "code",
        "colab": {}
      },
      "source": [
        ""
      ],
      "execution_count": 0,
      "outputs": []
    },
    {
      "cell_type": "code",
      "metadata": {
        "id": "zSEbgRVuZVao",
        "colab_type": "code",
        "colab": {},
        "outputId": "9da4182f-e28d-48db-e71b-eedae6111eb1"
      },
      "source": [
        "lr.fit(X_train,y_train)"
      ],
      "execution_count": 0,
      "outputs": [
        {
          "output_type": "stream",
          "text": [
            "/usr/local/lib64/python3.6/site-packages/sklearn/linear_model/logistic.py:432: FutureWarning: Default solver will be changed to 'lbfgs' in 0.22. Specify a solver to silence this warning.\n",
            "  FutureWarning)\n"
          ],
          "name": "stderr"
        },
        {
          "output_type": "execute_result",
          "data": {
            "text/plain": [
              "LogisticRegression(C=1.0, class_weight=None, dual=False, fit_intercept=True,\n",
              "                   intercept_scaling=1, l1_ratio=None, max_iter=100,\n",
              "                   multi_class='warn', n_jobs=None, penalty='l2',\n",
              "                   random_state=None, solver='warn', tol=0.0001, verbose=0,\n",
              "                   warm_start=False)"
            ]
          },
          "metadata": {
            "tags": []
          },
          "execution_count": 64
        }
      ]
    },
    {
      "cell_type": "code",
      "metadata": {
        "id": "tJeMVWKuZVar",
        "colab_type": "code",
        "colab": {}
      },
      "source": [
        "y_p=lr.predict(X_test)"
      ],
      "execution_count": 0,
      "outputs": []
    },
    {
      "cell_type": "code",
      "metadata": {
        "id": "V8xHcwuJZVau",
        "colab_type": "code",
        "colab": {},
        "outputId": "552698cc-d635-47f5-f162-535a11aef17c"
      },
      "source": [
        "from sklearn.metrics import accuracy_score\n",
        "accuracy_score(y_p,y_test)"
      ],
      "execution_count": 0,
      "outputs": [
        {
          "output_type": "execute_result",
          "data": {
            "text/plain": [
              "0.64"
            ]
          },
          "metadata": {
            "tags": []
          },
          "execution_count": 66
        }
      ]
    },
    {
      "cell_type": "code",
      "metadata": {
        "id": "CsMmAptVZVay",
        "colab_type": "code",
        "colab": {},
        "outputId": "53794359-8727-44d4-cd8c-49bcd7476c98"
      },
      "source": [
        "print((y_p!=y_test).sum())"
      ],
      "execution_count": 0,
      "outputs": [
        {
          "output_type": "stream",
          "text": [
            "18\n"
          ],
          "name": "stdout"
        }
      ]
    },
    {
      "cell_type": "code",
      "metadata": {
        "id": "YA7REO5dZVa0",
        "colab_type": "code",
        "colab": {}
      },
      "source": [
        "from sklearn.svm import SVC\n",
        "svc=SVC()"
      ],
      "execution_count": 0,
      "outputs": []
    },
    {
      "cell_type": "code",
      "metadata": {
        "id": "k9725oAsZVa3",
        "colab_type": "code",
        "colab": {},
        "outputId": "8211ce3d-fd2d-497d-9cec-d91e7e85fe5e"
      },
      "source": [
        "svc.fit(X_train,y_train)"
      ],
      "execution_count": 0,
      "outputs": [
        {
          "output_type": "stream",
          "text": [
            "/usr/local/lib64/python3.6/site-packages/sklearn/svm/base.py:193: FutureWarning: The default value of gamma will change from 'auto' to 'scale' in version 0.22 to account better for unscaled features. Set gamma explicitly to 'auto' or 'scale' to avoid this warning.\n",
            "  \"avoid this warning.\", FutureWarning)\n"
          ],
          "name": "stderr"
        },
        {
          "output_type": "execute_result",
          "data": {
            "text/plain": [
              "SVC(C=1.0, cache_size=200, class_weight=None, coef0=0.0,\n",
              "    decision_function_shape='ovr', degree=3, gamma='auto_deprecated',\n",
              "    kernel='rbf', max_iter=-1, probability=False, random_state=None,\n",
              "    shrinking=True, tol=0.001, verbose=False)"
            ]
          },
          "metadata": {
            "tags": []
          },
          "execution_count": 69
        }
      ]
    },
    {
      "cell_type": "code",
      "metadata": {
        "id": "5NUv6okMZVa5",
        "colab_type": "code",
        "colab": {}
      },
      "source": [
        "y_p=svc.predict(X_test)"
      ],
      "execution_count": 0,
      "outputs": []
    },
    {
      "cell_type": "code",
      "metadata": {
        "id": "pKSgZZA9ZVa7",
        "colab_type": "code",
        "colab": {},
        "outputId": "31a5f1de-a95a-48d3-b68c-d899dc321f56"
      },
      "source": [
        "print((y_p!=y_test).sum())"
      ],
      "execution_count": 0,
      "outputs": [
        {
          "output_type": "stream",
          "text": [
            "27\n"
          ],
          "name": "stdout"
        }
      ]
    },
    {
      "cell_type": "code",
      "metadata": {
        "id": "1dUc4bqYZVa9",
        "colab_type": "code",
        "colab": {},
        "outputId": "d769cc09-f885-425e-bcd9-25c8e415758e"
      },
      "source": [
        "accuracy_score(y_p,y_test)"
      ],
      "execution_count": 0,
      "outputs": [
        {
          "output_type": "execute_result",
          "data": {
            "text/plain": [
              "0.46"
            ]
          },
          "metadata": {
            "tags": []
          },
          "execution_count": 73
        }
      ]
    },
    {
      "cell_type": "code",
      "metadata": {
        "id": "IpSBMYVwZVa-",
        "colab_type": "code",
        "colab": {}
      },
      "source": [
        "#両方めちゃ正答率低いやないかい！"
      ],
      "execution_count": 0,
      "outputs": []
    },
    {
      "cell_type": "code",
      "metadata": {
        "id": "K4twjqOiZVbA",
        "colab_type": "code",
        "colab": {}
      },
      "source": [
        ""
      ],
      "execution_count": 0,
      "outputs": []
    },
    {
      "cell_type": "code",
      "metadata": {
        "id": "hAzAYQ4hZVbD",
        "colab_type": "code",
        "colab": {}
      },
      "source": [
        ""
      ],
      "execution_count": 0,
      "outputs": []
    },
    {
      "cell_type": "code",
      "metadata": {
        "id": "HtL2LbE2ZVbF",
        "colab_type": "code",
        "colab": {}
      },
      "source": [
        ""
      ],
      "execution_count": 0,
      "outputs": []
    },
    {
      "cell_type": "code",
      "metadata": {
        "id": "Egc0feqRZVbN",
        "colab_type": "code",
        "colab": {}
      },
      "source": [
        ""
      ],
      "execution_count": 0,
      "outputs": []
    },
    {
      "cell_type": "code",
      "metadata": {
        "id": "VYSyseKiZVbQ",
        "colab_type": "code",
        "colab": {}
      },
      "source": [
        ""
      ],
      "execution_count": 0,
      "outputs": []
    },
    {
      "cell_type": "code",
      "metadata": {
        "id": "U7hIS--HZVbS",
        "colab_type": "code",
        "colab": {}
      },
      "source": [
        ""
      ],
      "execution_count": 0,
      "outputs": []
    },
    {
      "cell_type": "code",
      "metadata": {
        "id": "bICA_iqFZVbT",
        "colab_type": "code",
        "colab": {}
      },
      "source": [
        ""
      ],
      "execution_count": 0,
      "outputs": []
    },
    {
      "cell_type": "code",
      "metadata": {
        "id": "bRiiogtCZVbX",
        "colab_type": "code",
        "colab": {}
      },
      "source": [
        ""
      ],
      "execution_count": 0,
      "outputs": []
    },
    {
      "cell_type": "code",
      "metadata": {
        "id": "p27dJxYuZVbZ",
        "colab_type": "code",
        "colab": {}
      },
      "source": [
        ""
      ],
      "execution_count": 0,
      "outputs": []
    },
    {
      "cell_type": "code",
      "metadata": {
        "id": "EcdlO2YCZVbb",
        "colab_type": "code",
        "colab": {}
      },
      "source": [
        ""
      ],
      "execution_count": 0,
      "outputs": []
    },
    {
      "cell_type": "code",
      "metadata": {
        "id": "ICiXn-V9ZVbf",
        "colab_type": "code",
        "colab": {}
      },
      "source": [
        ""
      ],
      "execution_count": 0,
      "outputs": []
    },
    {
      "cell_type": "code",
      "metadata": {
        "id": "j3NfQ68bZVbh",
        "colab_type": "code",
        "colab": {}
      },
      "source": [
        ""
      ],
      "execution_count": 0,
      "outputs": []
    },
    {
      "cell_type": "code",
      "metadata": {
        "id": "U0n7KI9WZVbi",
        "colab_type": "code",
        "colab": {}
      },
      "source": [
        ""
      ],
      "execution_count": 0,
      "outputs": []
    },
    {
      "cell_type": "code",
      "metadata": {
        "id": "51HseoWEZVbk",
        "colab_type": "code",
        "colab": {}
      },
      "source": [
        ""
      ],
      "execution_count": 0,
      "outputs": []
    },
    {
      "cell_type": "code",
      "metadata": {
        "id": "oNBLnbNIZVbm",
        "colab_type": "code",
        "colab": {}
      },
      "source": [
        ""
      ],
      "execution_count": 0,
      "outputs": []
    },
    {
      "cell_type": "code",
      "metadata": {
        "id": "2MuVLpF4ZVbo",
        "colab_type": "code",
        "colab": {}
      },
      "source": [
        ""
      ],
      "execution_count": 0,
      "outputs": []
    },
    {
      "cell_type": "code",
      "metadata": {
        "id": "fpJh2k0HZVbr",
        "colab_type": "code",
        "colab": {}
      },
      "source": [
        ""
      ],
      "execution_count": 0,
      "outputs": []
    },
    {
      "cell_type": "code",
      "metadata": {
        "id": "1V4NAP1XZVbt",
        "colab_type": "code",
        "colab": {}
      },
      "source": [
        ""
      ],
      "execution_count": 0,
      "outputs": []
    },
    {
      "cell_type": "code",
      "metadata": {
        "id": "QMQ9xzdkZVbu",
        "colab_type": "code",
        "colab": {}
      },
      "source": [
        ""
      ],
      "execution_count": 0,
      "outputs": []
    },
    {
      "cell_type": "code",
      "metadata": {
        "id": "puc27ZwSZVbw",
        "colab_type": "code",
        "colab": {}
      },
      "source": [
        ""
      ],
      "execution_count": 0,
      "outputs": []
    },
    {
      "cell_type": "code",
      "metadata": {
        "id": "ywhwUeDOZVbx",
        "colab_type": "code",
        "colab": {}
      },
      "source": [
        ""
      ],
      "execution_count": 0,
      "outputs": []
    },
    {
      "cell_type": "code",
      "metadata": {
        "id": "swoQmADdZVbz",
        "colab_type": "code",
        "colab": {}
      },
      "source": [
        ""
      ],
      "execution_count": 0,
      "outputs": []
    },
    {
      "cell_type": "code",
      "metadata": {
        "id": "TJBw3xctZVb0",
        "colab_type": "code",
        "colab": {}
      },
      "source": [
        ""
      ],
      "execution_count": 0,
      "outputs": []
    },
    {
      "cell_type": "code",
      "metadata": {
        "id": "4b9hiukeZVb3",
        "colab_type": "code",
        "colab": {}
      },
      "source": [
        ""
      ],
      "execution_count": 0,
      "outputs": []
    },
    {
      "cell_type": "code",
      "metadata": {
        "id": "7sV9Jm5iZVb5",
        "colab_type": "code",
        "colab": {}
      },
      "source": [
        ""
      ],
      "execution_count": 0,
      "outputs": []
    },
    {
      "cell_type": "code",
      "metadata": {
        "id": "80l8FzW7ZVb6",
        "colab_type": "code",
        "colab": {}
      },
      "source": [
        ""
      ],
      "execution_count": 0,
      "outputs": []
    },
    {
      "cell_type": "code",
      "metadata": {
        "id": "ymYVOY51ZVb8",
        "colab_type": "code",
        "colab": {}
      },
      "source": [
        ""
      ],
      "execution_count": 0,
      "outputs": []
    },
    {
      "cell_type": "code",
      "metadata": {
        "id": "oR1S94AHZVb-",
        "colab_type": "code",
        "colab": {}
      },
      "source": [
        ""
      ],
      "execution_count": 0,
      "outputs": []
    },
    {
      "cell_type": "code",
      "metadata": {
        "id": "Iq_5vnt9ZVb_",
        "colab_type": "code",
        "colab": {}
      },
      "source": [
        ""
      ],
      "execution_count": 0,
      "outputs": []
    },
    {
      "cell_type": "code",
      "metadata": {
        "id": "chQJr2HJZVcA",
        "colab_type": "code",
        "colab": {}
      },
      "source": [
        ""
      ],
      "execution_count": 0,
      "outputs": []
    },
    {
      "cell_type": "code",
      "metadata": {
        "id": "4njDZjSTZVcB",
        "colab_type": "code",
        "colab": {}
      },
      "source": [
        ""
      ],
      "execution_count": 0,
      "outputs": []
    },
    {
      "cell_type": "code",
      "metadata": {
        "id": "uunr6I1iZVcD",
        "colab_type": "code",
        "colab": {}
      },
      "source": [
        ""
      ],
      "execution_count": 0,
      "outputs": []
    },
    {
      "cell_type": "code",
      "metadata": {
        "id": "T6JWyEEMZVcF",
        "colab_type": "code",
        "colab": {}
      },
      "source": [
        ""
      ],
      "execution_count": 0,
      "outputs": []
    },
    {
      "cell_type": "code",
      "metadata": {
        "id": "cIyj7KnyZVcH",
        "colab_type": "code",
        "colab": {}
      },
      "source": [
        ""
      ],
      "execution_count": 0,
      "outputs": []
    }
  ]
}